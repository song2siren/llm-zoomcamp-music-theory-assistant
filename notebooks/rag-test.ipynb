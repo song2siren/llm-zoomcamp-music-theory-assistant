{
 "cells": [
  {
   "cell_type": "markdown",
   "id": "227806d8-486f-4758-b946-6d6a54965c3f",
   "metadata": {},
   "source": [
    "# RAG Test"
   ]
  },
  {
   "cell_type": "markdown",
   "id": "a8b67743-bf27-4018-bccd-476682b491e9",
   "metadata": {},
   "source": [
    "This notebook tests the RAG flow for the Music Theory Assistant, evaluates how well the search system can retrieve results and how well different LLMs can analyse the relevance of generated answers to given questions."
   ]
  },
  {
   "cell_type": "markdown",
   "id": "766254c7-aab1-47c9-b0bc-0c6ef1d19969",
   "metadata": {},
   "source": [
    "## Retrieval Flow"
   ]
  },
  {
   "cell_type": "markdown",
   "id": "48c308f9-ab05-4e3a-a2fc-06d6fa17d238",
   "metadata": {},
   "source": [
    "This section gets the music theory data from a local CSV file knowledge base containing a selection of songs from different musical genres. The retrieval flow is then tested using the following different methods:\n",
    "\n",
    "- minsearch (text search)\n",
    "- Qdrant (vector search)\n",
    "- Qdrant (vector search hybrid)\n",
    "- Qdrant (vector search hybrid re-ranked)"
   ]
  },
  {
   "cell_type": "markdown",
   "id": "a0c21857-c8c2-48b8-8741-1bb87e1abc2d",
   "metadata": {},
   "source": [
    "#### Get the data"
   ]
  },
  {
   "cell_type": "code",
   "execution_count": 1,
   "id": "5ad9b306-4d17-4eec-bd03-dddd4622fe17",
   "metadata": {},
   "outputs": [],
   "source": [
    "import pandas as pd"
   ]
  },
  {
   "cell_type": "code",
   "execution_count": 2,
   "id": "64da1b20-11a5-417b-a481-ac9e9a09941a",
   "metadata": {},
   "outputs": [],
   "source": [
    "csv = '../data/music-theory-dataset-100.csv'\n",
    "\n",
    "df = pd.read_csv(csv)\n",
    "df.columns = df.columns.str.lower().str.replace(' ', '_')"
   ]
  },
  {
   "cell_type": "code",
   "execution_count": 3,
   "id": "4e4bebbe-5fb2-4a35-9563-91b21f003f6e",
   "metadata": {},
   "outputs": [],
   "source": [
    "df.to_csv(csv, index=False)"
   ]
  },
  {
   "cell_type": "code",
   "execution_count": 4,
   "id": "eef4d8ec-4e44-4af0-ab3a-2adb7eefa7a2",
   "metadata": {},
   "outputs": [
    {
     "name": "stdout",
     "output_type": "stream",
     "text": [
      "Shape (rows and columns): (100, 11)\n"
     ]
    },
    {
     "data": {
      "text/html": [
       "<div>\n",
       "<style scoped>\n",
       "    .dataframe tbody tr th:only-of-type {\n",
       "        vertical-align: middle;\n",
       "    }\n",
       "\n",
       "    .dataframe tbody tr th {\n",
       "        vertical-align: top;\n",
       "    }\n",
       "\n",
       "    .dataframe thead th {\n",
       "        text-align: right;\n",
       "    }\n",
       "</style>\n",
       "<table border=\"1\" class=\"dataframe\">\n",
       "  <thead>\n",
       "    <tr style=\"text-align: right;\">\n",
       "      <th></th>\n",
       "      <th>id</th>\n",
       "      <th>title</th>\n",
       "      <th>artist</th>\n",
       "      <th>genre</th>\n",
       "      <th>key</th>\n",
       "      <th>tempo_bpm</th>\n",
       "      <th>time_signature</th>\n",
       "      <th>chord_progression</th>\n",
       "      <th>roman_numerals</th>\n",
       "      <th>cadence</th>\n",
       "      <th>theory_notes</th>\n",
       "    </tr>\n",
       "  </thead>\n",
       "  <tbody>\n",
       "    <tr>\n",
       "      <th>0</th>\n",
       "      <td>0</td>\n",
       "      <td>Let It Be</td>\n",
       "      <td>The Beatles</td>\n",
       "      <td>Pop</td>\n",
       "      <td>C major</td>\n",
       "      <td>76</td>\n",
       "      <td>4/4</td>\n",
       "      <td>C – G – Am – F – C – G – F – C</td>\n",
       "      <td>I – V – vi – IV – I – V – IV – I</td>\n",
       "      <td>Authentic (IV–I) at end; Deceptive (V–vi) earlier</td>\n",
       "      <td>Diatonic progression; Deceptive cadence in ear...</td>\n",
       "    </tr>\n",
       "    <tr>\n",
       "      <th>1</th>\n",
       "      <td>1</td>\n",
       "      <td>Hotel California</td>\n",
       "      <td>Eagles</td>\n",
       "      <td>Rock</td>\n",
       "      <td>Bm</td>\n",
       "      <td>74</td>\n",
       "      <td>4/4</td>\n",
       "      <td>Bm – F# – A – E – G – D – Em – F#</td>\n",
       "      <td>i – V – VII – IV – VI – III – iv – V</td>\n",
       "      <td>Half cadence (iv–V)</td>\n",
       "      <td>Modal interchange; Natural VII chord; Aeolian ...</td>\n",
       "    </tr>\n",
       "  </tbody>\n",
       "</table>\n",
       "</div>"
      ],
      "text/plain": [
       "   id             title       artist genre      key  tempo_bpm time_signature  \\\n",
       "0   0         Let It Be  The Beatles   Pop  C major         76            4/4   \n",
       "1   1  Hotel California       Eagles  Rock       Bm         74            4/4   \n",
       "\n",
       "                   chord_progression                        roman_numerals  \\\n",
       "0     C – G – Am – F – C – G – F – C      I – V – vi – IV – I – V – IV – I   \n",
       "1  Bm – F# – A – E – G – D – Em – F#  i – V – VII – IV – VI – III – iv – V   \n",
       "\n",
       "                                             cadence  \\\n",
       "0  Authentic (IV–I) at end; Deceptive (V–vi) earlier   \n",
       "1                                Half cadence (iv–V)   \n",
       "\n",
       "                                        theory_notes  \n",
       "0  Diatonic progression; Deceptive cadence in ear...  \n",
       "1  Modal interchange; Natural VII chord; Aeolian ...  "
      ]
     },
     "execution_count": 4,
     "metadata": {},
     "output_type": "execute_result"
    }
   ],
   "source": [
    "print('Shape (rows and columns):', df.shape)\n",
    "df.head(2)"
   ]
  },
  {
   "cell_type": "markdown",
   "id": "0c38cac2-437e-4ebe-9da7-e0151b2bebdb",
   "metadata": {},
   "source": [
    "### Retrieval Flow - minsearch (text search)"
   ]
  },
  {
   "cell_type": "markdown",
   "id": "85671610-602e-4281-970d-f2eb469d91a9",
   "metadata": {},
   "source": [
    "This section gets the music theory data from a local CSV file knowledge base containing a selection of songs from different musical genres. It is then indexed in [minsearch](https://github.com/alexeygrigorev/minsearch) and queried. This same dataset is then passed to an [LLM (OpenAI - GPT-4o mini)](https://platform.openai.com/docs/models/gpt-4o-mini) and queried again to check the accuracy of the results."
   ]
  },
  {
   "cell_type": "markdown",
   "id": "f3b6ae00-d8f2-4d62-956d-1d97d679a279",
   "metadata": {},
   "source": [
    "#### Install minsearch"
   ]
  },
  {
   "cell_type": "code",
   "execution_count": 17,
   "id": "3aa8ecfb-347b-4514-9995-db17172ad930",
   "metadata": {},
   "outputs": [],
   "source": [
    "import os\n",
    "\n",
    "if not os.path.exists(\"../notebooks/minsearch.py\"):\n",
    "    # Install the package\n",
    "    os.system(\"pipenv install minsearch\")\n",
    "    # Download the file\n",
    "    os.system(\"wget https://raw.githubusercontent.com/alexeygrigorev/minsearch/main/minsearch.py\")"
   ]
  },
  {
   "cell_type": "markdown",
   "id": "c958c1a1-a35f-4ac2-818f-481ee1d14827",
   "metadata": {},
   "source": [
    "#### Index with minsearch"
   ]
  },
  {
   "cell_type": "code",
   "execution_count": 18,
   "id": "19f85eee-e75d-47e0-85b1-4ee25f3d3ca7",
   "metadata": {},
   "outputs": [
    {
     "name": "stderr",
     "output_type": "stream",
     "text": [
      "/workspaces/llm-zoomcamp-music-theory-assistant/notebooks/minsearch.py:10: UserWarning: Now minsearch is installable via pip: 'pip install minsearch'. Remove the downloaded file and re-install it with pip.\n",
      "  warnings.warn(\n"
     ]
    }
   ],
   "source": [
    "import minsearch"
   ]
  },
  {
   "cell_type": "code",
   "execution_count": 19,
   "id": "d4c1c9ab-9125-4a32-875d-222709ddbf1c",
   "metadata": {},
   "outputs": [
    {
     "data": {
      "text/plain": [
       "Index(['id', 'title', 'artist', 'genre', 'key', 'tempo_bpm', 'time_signature',\n",
       "       'chord_progression', 'roman_numerals', 'cadence', 'theory_notes'],\n",
       "      dtype='object')"
      ]
     },
     "execution_count": 19,
     "metadata": {},
     "output_type": "execute_result"
    }
   ],
   "source": [
    "df.columns"
   ]
  },
  {
   "cell_type": "code",
   "execution_count": 20,
   "id": "1fbee000-eb55-46e3-8e60-7313be066fb2",
   "metadata": {},
   "outputs": [
    {
     "data": {
      "text/plain": [
       "{'id': 0,\n",
       " 'title': 'Let It Be',\n",
       " 'artist': 'The Beatles',\n",
       " 'genre': 'Pop',\n",
       " 'key': 'C major',\n",
       " 'tempo_bpm': '76',\n",
       " 'time_signature': '4/4',\n",
       " 'chord_progression': 'C – G – Am – F – C – G – F – C',\n",
       " 'roman_numerals': 'I – V – vi – IV – I – V – IV – I',\n",
       " 'cadence': 'Authentic (IV–I) at end; Deceptive (V–vi) earlier',\n",
       " 'theory_notes': 'Diatonic progression; Deceptive cadence in early phrase; Clear tonic return'}"
      ]
     },
     "execution_count": 20,
     "metadata": {},
     "output_type": "execute_result"
    }
   ],
   "source": [
    "# Covert numeric fields to string to prevent parsing errors in minsearch\n",
    "df['tempo_bpm'] = df['tempo_bpm'].apply(lambda i: str(i))\n",
    "\n",
    "documents = df.to_dict(orient='records')\n",
    "documents[0]"
   ]
  },
  {
   "cell_type": "code",
   "execution_count": 21,
   "id": "a2250d54-5761-4389-bf8e-0f244cbfca07",
   "metadata": {},
   "outputs": [],
   "source": [
    "index = minsearch.Index(\n",
    "    text_fields=['title', 'artist', 'genre', 'key', 'tempo_bpm', 'time_signature',\n",
    "       'chord_progression', 'roman_numerals', 'cadence', 'theory_notes'],\n",
    "    keyword_fields=[]\n",
    ")"
   ]
  },
  {
   "cell_type": "code",
   "execution_count": 22,
   "id": "1f55deca-1745-4f22-a134-628f247da63f",
   "metadata": {},
   "outputs": [
    {
     "data": {
      "text/plain": [
       "<minsearch.Index at 0x79a0caedf410>"
      ]
     },
     "execution_count": 22,
     "metadata": {},
     "output_type": "execute_result"
    }
   ],
   "source": [
    "index.fit(documents)"
   ]
  },
  {
   "cell_type": "code",
   "execution_count": 23,
   "id": "2be6f096-1eb5-4d52-a41c-9442f2a04de7",
   "metadata": {},
   "outputs": [],
   "source": [
    "query = \"Give me Folk titles\""
   ]
  },
  {
   "cell_type": "code",
   "execution_count": 24,
   "id": "41d04bb7-b808-464d-af1a-9d31213005af",
   "metadata": {},
   "outputs": [
    {
     "data": {
      "text/plain": [
       "[{'id': 5,\n",
       "  'title': 'House of the Rising Sun',\n",
       "  'artist': 'The Animals',\n",
       "  'genre': 'Folk',\n",
       "  'key': 'Am',\n",
       "  'tempo_bpm': '76',\n",
       "  'time_signature': '6/8',\n",
       "  'chord_progression': 'Am – C – D – F – Am – E – Am',\n",
       "  'roman_numerals': 'i – III – IV – VI – i – V – i',\n",
       "  'cadence': 'Authentic (V–i)',\n",
       "  'theory_notes': 'Aeolian mode; 6/8 compound meter; Traditional folk harmony'},\n",
       " {'id': 17,\n",
       "  'title': \"The Times They Are A-Changin'\",\n",
       "  'artist': 'Bob Dylan',\n",
       "  'genre': 'Folk',\n",
       "  'key': 'G major',\n",
       "  'tempo_bpm': '76',\n",
       "  'time_signature': '3/4',\n",
       "  'chord_progression': 'G – Em – C – G – Am – D – G – Em – D – G',\n",
       "  'roman_numerals': 'I – vi – IV – I – ii – V – I – vi – V – I',\n",
       "  'cadence': 'Authentic (V–I)',\n",
       "  'theory_notes': 'Folk protest song; Simple diatonic harmony; Waltz meter'},\n",
       " {'id': 82,\n",
       "  'title': 'Hallelujah',\n",
       "  'artist': 'Leonard Cohen',\n",
       "  'genre': 'Folk',\n",
       "  'key': 'C major',\n",
       "  'tempo_bpm': '72',\n",
       "  'time_signature': '6/8',\n",
       "  'chord_progression': 'C – Am – F – G – Em – Am – F – G – C',\n",
       "  'roman_numerals': 'I – vi – IV – V – iii – vi – IV – V – I',\n",
       "  'cadence': 'Authentic (V–I)',\n",
       "  'theory_notes': 'Spiritual folk; Multiple cover versions; Complex emotional content'},\n",
       " {'id': 19,\n",
       "  'title': \"California Dreamin'\",\n",
       "  'artist': 'The Mamas & The Papas',\n",
       "  'genre': 'Folk',\n",
       "  'key': 'Am',\n",
       "  'tempo_bpm': '120',\n",
       "  'time_signature': '4/4',\n",
       "  'chord_progression': 'Am – G – F – G – E – Am – F – G – Am',\n",
       "  'roman_numerals': 'i – VII – VI – VII – V – i – VI – VII – i',\n",
       "  'cadence': 'Authentic (VII–i)',\n",
       "  'theory_notes': 'Modal folk-rock; Natural VII prominent; Relative major relationship'},\n",
       " {'id': 96,\n",
       "  'title': 'Mr. Tambourine Man',\n",
       "  'artist': 'Bob Dylan',\n",
       "  'genre': 'Folk',\n",
       "  'key': 'D major',\n",
       "  'tempo_bpm': '110',\n",
       "  'time_signature': '4/4',\n",
       "  'chord_progression': 'D – G – A – D – Bm – G – A – D',\n",
       "  'roman_numerals': 'I – IV – V – I – vi – IV – V – I',\n",
       "  'cadence': 'Authentic (V–I)',\n",
       "  'theory_notes': 'Folk-rock blend; jangle rhythm; consistent authentic cadences'}]"
      ]
     },
     "execution_count": 24,
     "metadata": {},
     "output_type": "execute_result"
    }
   ],
   "source": [
    "index.search(query, num_results=5)"
   ]
  },
  {
   "cell_type": "markdown",
   "id": "b122dfa1-a101-4ac0-b315-be40444f9ef5",
   "metadata": {},
   "source": [
    "#### minsearch to LLM"
   ]
  },
  {
   "cell_type": "code",
   "execution_count": 25,
   "id": "372dca80-45b8-4b9a-81c7-09ab41a1cca1",
   "metadata": {},
   "outputs": [],
   "source": [
    "from openai import OpenAI\n",
    "\n",
    "client = OpenAI()"
   ]
  },
  {
   "cell_type": "code",
   "execution_count": 26,
   "id": "d55803b1-2497-4e7b-aed8-a193b99c140d",
   "metadata": {},
   "outputs": [],
   "source": [
    "def search(query):\n",
    "    boost = {}\n",
    "\n",
    "    results = index.search(\n",
    "        query=query,\n",
    "        filter_dict={},\n",
    "        boost_dict=boost,\n",
    "        num_results=10\n",
    "    )\n",
    "\n",
    "    return results"
   ]
  },
  {
   "cell_type": "code",
   "execution_count": 27,
   "id": "46894198-1ceb-4dbb-be2e-7782e815b97d",
   "metadata": {},
   "outputs": [],
   "source": [
    "prompt_template = \"\"\"\n",
    "You're a music teacher. Answer the QUESTION based on the CONTEXT from our music theory database.\n",
    "Use only the facts from the CONTEXT when answering the QUESTION.\n",
    "\n",
    "QUESTION: {question}\n",
    "\n",
    "CONTEXT:\n",
    "{context}\n",
    "\"\"\".strip()\n",
    "\n",
    "entry_template = \"\"\"\n",
    "title: {title}\n",
    "artist: {artist}\n",
    "genre: {genre}\n",
    "key: {key}\n",
    "tempo_bpm: {tempo_bpm}\n",
    "time_signature: {time_signature}\n",
    "chord_progression: {chord_progression}\n",
    "roman_numerals: {roman_numerals}\n",
    "cadence: {cadence}\n",
    "theory_notes: {theory_notes}\n",
    "\"\"\".strip()"
   ]
  },
  {
   "cell_type": "code",
   "execution_count": 28,
   "id": "8dfec9f5-29f6-4c8d-b681-87ca502a5cf0",
   "metadata": {},
   "outputs": [],
   "source": [
    "def build_prompt(query, search_results):\n",
    "    context = \"\"\n",
    "    \n",
    "    for doc in search_results:\n",
    "        context = context + entry_template.format(**doc) + \"\\n\\n\"\n",
    "\n",
    "    prompt = prompt_template.format(question=query, context=context).strip()\n",
    "    return prompt"
   ]
  },
  {
   "cell_type": "code",
   "execution_count": 29,
   "id": "0149e0a1-5036-4eea-825c-359d5a94b1c3",
   "metadata": {},
   "outputs": [],
   "source": [
    "def llm(prompt, model='gpt-4o-mini'):\n",
    "    response = client.chat.completions.create(\n",
    "        model=model,\n",
    "        messages=[{\"role\": \"user\", \"content\": prompt}]\n",
    "    )\n",
    "    \n",
    "    return response.choices[0].message.content"
   ]
  },
  {
   "cell_type": "code",
   "execution_count": 31,
   "id": "75c77e0a-e8e8-49b5-96f1-3eb05f6114ef",
   "metadata": {},
   "outputs": [],
   "source": [
    "from typing import Callable, List, Dict, Any\n",
    "\n",
    "def rag(\n",
    "    query: str,\n",
    "    retriever_fn: Callable[[str], List[Dict[str, Any]]] = None,\n",
    "    model: str = \"gpt-4o-mini\",\n",
    "    k: int = 5,\n",
    "):\n",
    "    \"\"\"\n",
    "    Single RAG:\n",
    "      - Pass which retriever to use via retriever_fn (e.g., search, vector_search, vector_search_hybrid or vector_search_hybrid_rerank)\n",
    "      - Reuses existing build_prompt() and llm()\n",
    "      - Defaults to text/minsearch via search(...)\n",
    "    \"\"\"\n",
    "    if retriever_fn is None:\n",
    "        retriever_fn = search  # default to the text (minsearch) retriever\n",
    "\n",
    "    search_results = retriever_fn(query)\n",
    "    \n",
    "    # If your retriever returns more than you need, trim to top-k\n",
    "    if isinstance(search_results, list):\n",
    "        search_results = search_results[:k]\n",
    "\n",
    "    prompt = build_prompt(query, search_results)\n",
    "    answer = llm(prompt, model=model)\n",
    "    return answer"
   ]
  },
  {
   "cell_type": "code",
   "execution_count": 32,
   "id": "4f6a15d6-6370-4a4b-afd3-2664c1625ea2",
   "metadata": {},
   "outputs": [
    {
     "name": "stdout",
     "output_type": "stream",
     "text": [
      "Yes, \"Mr. Tambourine Man\" is considered a folk song. It falls under the folk genre, which is characterized by its acoustic sounds and storytelling elements. The song is in the key of D major and has a tempo of 110 BPM in a 4/4 time signature.\n",
      "\n",
      "The chord progression used in \"Mr. Tambourine Man\" is D – G – A – D – Bm – G – A – D, which translates to the Roman numeral analysis of I – IV – V – I – vi – IV – V – I. The cadence at the end of the phrases is an authentic cadence (V–I), which means it resolves from the dominant chord (V) to the tonic chord (I), providing a sense of closure and completion in the music.\n",
      "\n",
      "A cadence in music theory refers to a sequence of chords that brings a phrase, section, or piece of music to a close. Authentic cadences are particularly strong and are often used to signal the end of a musical passage. In \"Mr. Tambourine Man,\" the use of the authentic cadence reinforces its folk characteristics by bringing coherence to its melodic and harmonic structure.\n"
     ]
    }
   ],
   "source": [
    "question = 'Is Mr Tambourine Man a folk song and if so, explain why, including information about its key and cadence, and explain what cadence means?'\n",
    "answer = rag(question)\n",
    "print(answer)"
   ]
  },
  {
   "cell_type": "code",
   "execution_count": 33,
   "id": "efc22123-93ee-4c66-a6bf-79d20c2e6440",
   "metadata": {},
   "outputs": [
    {
     "name": "stdout",
     "output_type": "stream",
     "text": [
      "Based on the provided context, the only song listed by The Beatles is:\n",
      "\n",
      "- **Let It Be**  \n",
      "  - Genre: Pop  \n",
      "  - Key: C major  \n",
      "  - Tempo: 76 BPM  \n",
      "  - Time Signature: 4/4  \n",
      "  - Chord Progression: C – G – Am – F – C – G – F – C  \n",
      "  - Roman Numerals: I – V – vi – IV – I – V – IV – I  \n",
      "  - Cadence: Authentic (IV–I) at end; Deceptive (V–vi) earlier  \n",
      "  - Theory Notes: Diatonic progression; Deceptive cadence in early phrase; Clear tonic return\n"
     ]
    }
   ],
   "source": [
    "question = 'Could you print a list of songs by The Beatles?'\n",
    "answer = rag(question)\n",
    "print(answer)"
   ]
  },
  {
   "cell_type": "code",
   "execution_count": 34,
   "id": "9baec181-5b31-43f1-8877-96076d73667e",
   "metadata": {},
   "outputs": [
    {
     "name": "stdout",
     "output_type": "stream",
     "text": [
      "Here is a list of songs in the key of C Major:\n",
      "\n",
      "1. **Let It Be**  \n",
      "   Artist: The Beatles  \n",
      "   Genre: Pop  \n",
      "\n",
      "2. **My Girl**  \n",
      "   Artist: The Temptations  \n",
      "   Genre: Soul  \n",
      "\n",
      "3. **Brown Sugar**  \n",
      "   Artist: The Rolling Stones  \n",
      "   Genre: Rock  \n"
     ]
    }
   ],
   "source": [
    "question = 'Could you print a list of songs in the key of C Major?'\n",
    "answer = rag(question)\n",
    "print(answer)"
   ]
  },
  {
   "cell_type": "markdown",
   "id": "9a4e0cbf-9236-4846-b4be-0507f2a11d48",
   "metadata": {},
   "source": [
    "### Retrieval Flow - Qdrant (vector search)"
   ]
  },
  {
   "cell_type": "markdown",
   "id": "6645b5c5-2361-400d-821e-614f1e94a352",
   "metadata": {},
   "source": [
    "This section gets the music theory data from a local CSV file knowledge base containing a selection of songs from different musical genres. It is then indexed in [Qdrant](https://qdrant.tech/) and queried. This same dataset is then passed to an [LLM (OpenAI - GPT-4o mini)](https://platform.openai.com/docs/models/gpt-4o-mini) and queried again to check the accuracy of the results."
   ]
  },
  {
   "cell_type": "markdown",
   "id": "5d081f5e-84a9-43d1-a6cf-12b461ae766f",
   "metadata": {},
   "source": [
    "Install qdrant and fastembed (if not already installed during project setup):\n",
    "\n",
    "```bash\n",
    "pipenv install -q \"qdrant-client[fastembed]>=1.14.2\"\n",
    "```\n",
    "\n",
    "Run in Docker:\n",
    "\n",
    "```bash\n",
    "docker pull qdrant/qdrant\n",
    "\n",
    "docker run -p 6333:6333 -p 6334:6334 \\\n",
    "   -v \"$(pwd)/qdrant_storage:/qdrant/storage:z\" \\\n",
    "   qdrant/qdrant\n",
    "```"
   ]
  },
  {
   "cell_type": "code",
   "execution_count": 36,
   "id": "48ac7e8b-059c-484f-a91f-4e05a6cc9d40",
   "metadata": {},
   "outputs": [],
   "source": [
    "from qdrant_client import QdrantClient, models"
   ]
  },
  {
   "cell_type": "code",
   "execution_count": 37,
   "id": "b83a01fe-257b-4dce-9dae-fddb42bee21a",
   "metadata": {},
   "outputs": [],
   "source": [
    "# Qdrant setup\n",
    "qd_client = QdrantClient(\"http://localhost:6333\")"
   ]
  },
  {
   "cell_type": "code",
   "execution_count": 38,
   "id": "a0d5d85b-a975-4681-b8d7-41e560297647",
   "metadata": {},
   "outputs": [],
   "source": [
    "EMBEDDING_MODEL = \"jinaai/jina-embeddings-v2-small-en\"\n",
    "EMBEDDING_DIMENSIONALITY = 512\n",
    "COLLECTION_NAME = \"zoomcamp-music-theory-assistant\""
   ]
  },
  {
   "cell_type": "code",
   "execution_count": 39,
   "id": "1ada90c9-e24e-4115-a843-684b94c0e071",
   "metadata": {},
   "outputs": [
    {
     "data": {
      "text/plain": [
       "True"
      ]
     },
     "execution_count": 39,
     "metadata": {},
     "output_type": "execute_result"
    }
   ],
   "source": [
    "# delete the collection if it already exists\n",
    "qd_client.delete_collection(collection_name=COLLECTION_NAME)"
   ]
  },
  {
   "cell_type": "code",
   "execution_count": 40,
   "id": "ed494db1-8310-4248-9928-15b60ecf5dd7",
   "metadata": {},
   "outputs": [
    {
     "data": {
      "text/plain": [
       "True"
      ]
     },
     "execution_count": 40,
     "metadata": {},
     "output_type": "execute_result"
    }
   ],
   "source": [
    "qd_client.create_collection(\n",
    "    collection_name=COLLECTION_NAME,\n",
    "    vectors_config=models.VectorParams(\n",
    "        size=EMBEDDING_DIMENSIONALITY,\n",
    "        distance=models.Distance.COSINE\n",
    "    )\n",
    ")"
   ]
  },
  {
   "cell_type": "code",
   "execution_count": 42,
   "id": "58612c33-34f1-49ae-b67b-49d8b50ebe06",
   "metadata": {},
   "outputs": [],
   "source": [
    "# Prepare points\n",
    "points = []\n",
    "for doc in documents:\n",
    "    # Build a single searchable text string from the document fields\n",
    "    text = \" | \".join([\n",
    "        str(doc[\"title\"]),\n",
    "        str(doc[\"artist\"]),\n",
    "        f\"Genre: {doc['genre']}\",\n",
    "        f\"Key: {doc['key']}\",\n",
    "        f\"Tempo: {doc['tempo_bpm']} BPM\",\n",
    "        f\"Time: {doc['time_signature']}\",\n",
    "        f\"Chords: {doc['chord_progression']}\",\n",
    "        f\"Roman: {doc['roman_numerals']}\",\n",
    "        f\"Cadence: {doc['cadence']}\",\n",
    "        f\"Notes: {doc['theory_notes']}\",\n",
    "    ])\n",
    "\n",
    "    vector = models.Document(text=text, model=EMBEDDING_MODEL)  # Qdrant client auto-embeds this\n",
    "    point = models.PointStruct(id=int(doc[\"id\"]), vector=vector, payload=doc)\n",
    "    points.append(point)"
   ]
  },
  {
   "cell_type": "code",
   "execution_count": 44,
   "id": "2aed28ce-cf11-4eca-bc59-b04299b781bb",
   "metadata": {},
   "outputs": [
    {
     "data": {
      "application/vnd.jupyter.widget-view+json": {
       "model_id": "c02ca3c449034de983cd78df67020e93",
       "version_major": 2,
       "version_minor": 0
      },
      "text/plain": [
       "Fetching 5 files:   0%|          | 0/5 [00:00<?, ?it/s]"
      ]
     },
     "metadata": {},
     "output_type": "display_data"
    },
    {
     "data": {
      "application/vnd.jupyter.widget-view+json": {
       "model_id": "a40b3a8a6bbd4934895757eae0b649fc",
       "version_major": 2,
       "version_minor": 0
      },
      "text/plain": [
       "config.json: 0.00B [00:00, ?B/s]"
      ]
     },
     "metadata": {},
     "output_type": "display_data"
    },
    {
     "data": {
      "application/vnd.jupyter.widget-view+json": {
       "model_id": "42590537f79d4c15bf4667ddc8a565f1",
       "version_major": 2,
       "version_minor": 0
      },
      "text/plain": [
       "special_tokens_map.json:   0%|          | 0.00/125 [00:00<?, ?B/s]"
      ]
     },
     "metadata": {},
     "output_type": "display_data"
    },
    {
     "data": {
      "application/vnd.jupyter.widget-view+json": {
       "model_id": "018a082d10744f27940e735327aa8cd6",
       "version_major": 2,
       "version_minor": 0
      },
      "text/plain": [
       "tokenizer.json: 0.00B [00:00, ?B/s]"
      ]
     },
     "metadata": {},
     "output_type": "display_data"
    },
    {
     "data": {
      "application/vnd.jupyter.widget-view+json": {
       "model_id": "03891e5c84c648b4997608f98c317b06",
       "version_major": 2,
       "version_minor": 0
      },
      "text/plain": [
       "tokenizer_config.json:   0%|          | 0.00/367 [00:00<?, ?B/s]"
      ]
     },
     "metadata": {},
     "output_type": "display_data"
    },
    {
     "data": {
      "application/vnd.jupyter.widget-view+json": {
       "model_id": "b9d98e97bd7040d3a2a2a6714c328c9f",
       "version_major": 2,
       "version_minor": 0
      },
      "text/plain": [
       "onnx/model.onnx:   0%|          | 0.00/130M [00:00<?, ?B/s]"
      ]
     },
     "metadata": {},
     "output_type": "display_data"
    },
    {
     "data": {
      "text/plain": [
       "UpdateResult(operation_id=0, status=<UpdateStatus.COMPLETED: 'completed'>)"
      ]
     },
     "execution_count": 44,
     "metadata": {},
     "output_type": "execute_result"
    }
   ],
   "source": [
    "qd_client.upsert(\n",
    "    collection_name=COLLECTION_NAME,\n",
    "    points=points\n",
    ")"
   ]
  },
  {
   "cell_type": "code",
   "execution_count": 79,
   "id": "f7eb4db1-d6e8-48f9-8c82-9d665dd7e331",
   "metadata": {},
   "outputs": [],
   "source": [
    "def vector_search(query):\n",
    "\n",
    "    query_points = qd_client.query_points(\n",
    "        collection_name=COLLECTION_NAME,\n",
    "        query=models.Document(\n",
    "            text=query,\n",
    "            model=EMBEDDING_MODEL \n",
    "        ),\n",
    "        limit=10,\n",
    "        with_payload=True\n",
    "    )\n",
    "    \n",
    "    results = []\n",
    "    \n",
    "    for point in query_points.points:\n",
    "        results.append(point.payload)\n",
    "    \n",
    "    return results"
   ]
  },
  {
   "cell_type": "code",
   "execution_count": 50,
   "id": "dd3af8d9-d978-4101-bcbf-1f4d7485740f",
   "metadata": {
    "scrolled": true
   },
   "outputs": [
    {
     "name": "stdout",
     "output_type": "stream",
     "text": [
      "Yes, \"Mr. Tambourine Man\" is considered a folk song. It falls within the folk genre, which often features storytelling, simple structures, and themes that resonate with the human experience. \n",
      "\n",
      "The song is in the key of D major and has a tempo of 110 BPM with a time signature of 4/4. Its chord progression is D – G – A – D – Bm – G – A – D, corresponding to the Roman numerals I – IV – V – I – vi – IV – V – I in the key of D major. \n",
      "\n",
      "The cadences in the song are authentic cadences, specifically V–I, which means that the fifth scale degree (V) resolves to the first scale degree (I). An authentic cadence provides a sense of closure or resolution in music, signaling the end of a phrase or section. This characteristic contributes to the song's folk quality by creating a familiar and satisfying musical experience. \n",
      "\n",
      "Overall, the combination of its genre, key, chord progression, and the use of authentic cadences are key elements that affirm \"Mr. Tambourine Man\" as a folk song.\n"
     ]
    }
   ],
   "source": [
    "question = 'Is Mr Tambourine Man a folk song and if so, explain why, including information about its key and cadence, and explain what cadence means?'\n",
    "answer = rag(question, retriever_fn=vector_search)\n",
    "print(answer)"
   ]
  },
  {
   "cell_type": "markdown",
   "id": "db1c0270-c695-4c9d-af89-c997b20e77f1",
   "metadata": {},
   "source": [
    "### Retrieval Flow - Qdrant (hybrid search)"
   ]
  },
  {
   "cell_type": "code",
   "execution_count": 54,
   "id": "b729ee89-9ca9-46a2-abfb-fa170cb75d9c",
   "metadata": {},
   "outputs": [],
   "source": [
    "COLLECTION_NAME_HYBRID = \"zoomcamp-music-theory-assistant-hybrid\""
   ]
  },
  {
   "cell_type": "code",
   "execution_count": 55,
   "id": "5b0c6bfd-fb5f-4a2b-89bd-fa1d7b58b0c2",
   "metadata": {},
   "outputs": [
    {
     "data": {
      "text/plain": [
       "True"
      ]
     },
     "execution_count": 55,
     "metadata": {},
     "output_type": "execute_result"
    }
   ],
   "source": [
    "# delete the collection if it already exists\n",
    "qd_client.delete_collection(collection_name=COLLECTION_NAME_HYBRID)"
   ]
  },
  {
   "cell_type": "code",
   "execution_count": 56,
   "id": "a861ae8f-1ae8-43dc-b2fc-4fbbc1f5f933",
   "metadata": {},
   "outputs": [
    {
     "data": {
      "text/plain": [
       "True"
      ]
     },
     "execution_count": 56,
     "metadata": {},
     "output_type": "execute_result"
    }
   ],
   "source": [
    "qd_client.create_collection(\n",
    "    collection_name=COLLECTION_NAME_HYBRID,\n",
    "    vectors_config={\n",
    "        \"dense\": models.VectorParams(\n",
    "            size=EMBEDDING_DIMENSIONALITY,\n",
    "            distance=models.Distance.COSINE\n",
    "        )\n",
    "    },\n",
    "    sparse_vectors_config={\n",
    "        \"bm25\": models.SparseVectorParams(\n",
    "            modifier=models.Modifier.IDF\n",
    "        )\n",
    "    }\n",
    ")"
   ]
  },
  {
   "cell_type": "code",
   "execution_count": 57,
   "id": "9ea54a91-ff56-475f-bcda-7424220a7c6c",
   "metadata": {},
   "outputs": [],
   "source": [
    "# Prepare points for the HYBRID collection\n",
    "points = []\n",
    "for doc in documents:\n",
    "    # Build your single searchable text string (same as you do now)\n",
    "    text = \" | \".join([\n",
    "        str(doc[\"title\"]),\n",
    "        str(doc[\"artist\"]),\n",
    "        f\"Genre: {doc['genre']}\",\n",
    "        f\"Key: {doc['key']}\",\n",
    "        f\"Tempo: {doc['tempo_bpm']} BPM\",\n",
    "        f\"Time: {doc['time_signature']}\",\n",
    "        f\"Chords: {doc['chord_progression']}\",\n",
    "        f\"Roman: {doc['roman_numerals']}\",\n",
    "        f\"Cadence: {doc['cadence']}\",\n",
    "        f\"Notes: {doc['theory_notes']}\",\n",
    "    ])\n",
    "\n",
    "    # Named dense vector; Qdrant will auto-embed this Document with EMBEDDING_MODEL\n",
    "    dense_vec = {\"dense\": models.Document(text=text, model=EMBEDDING_MODEL)}\n",
    "\n",
    "    # IMPORTANT: include 'id' in payload so your evaluator can match d['id'] == q['id']\n",
    "    payload = dict(doc)  # keep your fields\n",
    "    payload[\"id\"] = int(doc[\"id\"])\n",
    "    payload[\"text\"] = text  # handy for prompting / reranking\n",
    "\n",
    "    point = models.PointStruct(id=int(doc[\"id\"]), vector=dense_vec, payload=payload)\n",
    "    points.append(point)"
   ]
  },
  {
   "cell_type": "code",
   "execution_count": 58,
   "id": "805ca1d5-90a0-4eff-add4-0efd82372c29",
   "metadata": {},
   "outputs": [
    {
     "data": {
      "text/plain": [
       "UpdateResult(operation_id=0, status=<UpdateStatus.COMPLETED: 'completed'>)"
      ]
     },
     "execution_count": 58,
     "metadata": {},
     "output_type": "execute_result"
    }
   ],
   "source": [
    "qd_client.upsert(\n",
    "    collection_name=COLLECTION_NAME_HYBRID,\n",
    "    points=points\n",
    ")"
   ]
  },
  {
   "cell_type": "code",
   "execution_count": 59,
   "id": "e1c3b68c-a43f-4483-b319-c1765cdd4a61",
   "metadata": {},
   "outputs": [],
   "source": [
    "def vector_search_hybrid(question: str, limit: int = 10):\n",
    "    results = qd_client.query_points(\n",
    "        collection_name=COLLECTION_NAME_HYBRID,\n",
    "        prefetch=[\n",
    "            # Sparse / BM25\n",
    "            models.Prefetch(\n",
    "                query=models.Document(text=question, model=\"Qdrant/bm25\"),\n",
    "                using=\"bm25\",\n",
    "                limit=5 * limit,   # fetch extra for better fusion\n",
    "            ),\n",
    "            # Dense (auto-embed the query with the same model)\n",
    "            models.Prefetch(\n",
    "                query=models.Document(text=question, model=EMBEDDING_MODEL),\n",
    "                using=\"dense\",\n",
    "                limit=5 * limit,\n",
    "            ),\n",
    "        ],\n",
    "        query=models.FusionQuery(fusion=models.Fusion.RRF),\n",
    "        with_payload=True,\n",
    "        limit=limit,\n",
    "    )\n",
    "\n",
    "    # Return list[dict] with 'id' (the evaluator depends on it)\n",
    "    return [p.payload for p in results.points]"
   ]
  },
  {
   "cell_type": "code",
   "execution_count": 60,
   "id": "f8481e64-5f37-4663-97a4-3192d43bb0ae",
   "metadata": {},
   "outputs": [],
   "source": [
    "# simple lexical overlap re-ranker that can be applied on top of the fused list\n",
    "def rerank_lexical_overlap(query: str, docs: list[dict], text_key: str = \"text\", top_k: int | None = None) -> list[dict]:\n",
    "    q = set((query or \"\").lower().split())\n",
    "    rescored = []\n",
    "    for d in docs:\n",
    "        t = (d.get(text_key, \"\") or \"\").lower()\n",
    "        toks = set(t.split())\n",
    "        denom = len(q | toks) or 1\n",
    "        dd = dict(d)\n",
    "        dd[\"score_rerank\"] = len(q & toks) / denom\n",
    "        rescored.append(dd)\n",
    "    rescored.sort(key=lambda x: x[\"score_rerank\"], reverse=True)\n",
    "    return rescored[:top_k] if top_k else rescored"
   ]
  },
  {
   "cell_type": "code",
   "execution_count": 64,
   "id": "3f6c334e-91ac-483e-9a7c-f25b42563397",
   "metadata": {},
   "outputs": [],
   "source": [
    "def vector_search_hybrid_rerank(question: str, limit: int = 10):\n",
    "    docs = vector_search_hybrid(question, limit=limit)\n",
    "    return rerank_lexical_overlap(question, docs, text_key=\"text\", top_k=limit)"
   ]
  },
  {
   "cell_type": "code",
   "execution_count": 65,
   "id": "3ded46ae-b981-488b-8a95-12c093d1d811",
   "metadata": {},
   "outputs": [
    {
     "name": "stdout",
     "output_type": "stream",
     "text": [
      "Yes, \"Mr. Tambourine Man\" is considered a folk song. This classification is largely due to its roots in the folk genre, as noted in the context. \n",
      "\n",
      "The song is in the key of D major and has a tempo of 110 bpm with a 4/4 time signature. Its chord progression is D – G – A – D – Bm – G – A – D, which reflects simple harmonic structures typical of folk music. An important aspect of its musicality is the authentic cadence (V–I), which provides a strong sense of resolution and is commonly found in folk songs. \n",
      "\n",
      "A cadence in music refers to a sequence of chords that brings a phrase or piece to a close. Specifically, an authentic cadence resolves from the dominant chord (V) to the tonic chord (I), creating a satisfying conclusion to the musical phrase, which can be particularly characteristic of folk styles. In \"Mr. Tambourine Man,\" the authentic cadence contributes to its folk-rock blend and engaging rhythmic quality.\n"
     ]
    }
   ],
   "source": [
    "question = 'Is Mr Tambourine Man a folk song and if so, explain why, including information about its key and cadence, and explain what cadence means?'\n",
    "answer = rag(question, retriever_fn=vector_search_hybrid)\n",
    "print(answer)"
   ]
  },
  {
   "cell_type": "code",
   "execution_count": 66,
   "id": "2a17396a-6916-4b5e-a040-848e1007a927",
   "metadata": {},
   "outputs": [
    {
     "name": "stdout",
     "output_type": "stream",
     "text": [
      "Yes, \"Mr. Tambourine Man\" is considered a folk song. It falls under the genre of folk music as classified in the context. The song is composed in the key of D major and features a tempo of 110 beats per minute with a 4/4 time signature. The chord progression used in the song is D – G – A – D – Bm – G – A – D, which can be translated into Roman numerals as I – IV – V – I – vi – IV – V – I.\n",
      "\n",
      "The cadence of \"Mr. Tambourine Man\" is characterized as an Authentic cadence (V–I), which consists of a dominant chord resolving to the tonic chord. In music theory, a cadence refers to a sequence of chords that brings a musical phrase to a close. Authentic cadences, in particular, create a strong sense of resolution and finality.\n"
     ]
    }
   ],
   "source": [
    "question = 'Is Mr Tambourine Man a folk song and if so, explain why, including information about its key and cadence, and explain what cadence means?'\n",
    "answer = rag(question, retriever_fn=vector_search_hybrid_rerank)\n",
    "print(answer)"
   ]
  },
  {
   "cell_type": "markdown",
   "id": "00443ffe-79cd-47f4-b0c7-ac3dc040cd3d",
   "metadata": {},
   "source": [
    "## Retrieval Evaluation"
   ]
  },
  {
   "cell_type": "markdown",
   "id": "b6404527-0bb0-4d2a-9196-7b6d3bf1ec44",
   "metadata": {},
   "source": [
    "This section is measuring how well the search system (using minsearch and Qdrant) can retrieve the correct song record for a set of ground-truth questions. Here’s what it does:\n",
    "\n",
    "1. Loads ground-truth data: Reads a CSV file (ground-truth-retrieval.csv) containing questions and the correct song id for each question.\n",
    "2. Defines evaluation metrics:\n",
    "    - **Hit Rate**: The fraction of questions for which the correct song appears anywhere in the top search results.\n",
    "    - **MRR (Mean Reciprocal Rank)**: Measures how high the correct song appears in the ranked results (higher is better).\n",
    "3. Runs the search: For each question, it uses minsearch to retrieve the top results.\n",
    "4. Checks relevance: Compares the id of each result to the ground-truth id to see if the correct song was retrieved and at what rank.\n",
    "5. Calculates metrics: Aggregates the results to compute overall hit rate and MRR, giving a quantitative measure of your retrieval system’s accuracy."
   ]
  },
  {
   "cell_type": "code",
   "execution_count": 67,
   "id": "f861e7b9-65f1-43d4-ae69-527ec286ef25",
   "metadata": {},
   "outputs": [],
   "source": [
    "# Read the local ground truth dataset\n",
    "df_question = pd.read_csv('../data/ground-truth-retrieval.csv')"
   ]
  },
  {
   "cell_type": "code",
   "execution_count": 68,
   "id": "bd500bd3-9a63-4f39-afea-f3b8f57446b9",
   "metadata": {},
   "outputs": [
    {
     "data": {
      "text/html": [
       "<div>\n",
       "<style scoped>\n",
       "    .dataframe tbody tr th:only-of-type {\n",
       "        vertical-align: middle;\n",
       "    }\n",
       "\n",
       "    .dataframe tbody tr th {\n",
       "        vertical-align: top;\n",
       "    }\n",
       "\n",
       "    .dataframe thead th {\n",
       "        text-align: right;\n",
       "    }\n",
       "</style>\n",
       "<table border=\"1\" class=\"dataframe\">\n",
       "  <thead>\n",
       "    <tr style=\"text-align: right;\">\n",
       "      <th></th>\n",
       "      <th>id</th>\n",
       "      <th>question</th>\n",
       "    </tr>\n",
       "  </thead>\n",
       "  <tbody>\n",
       "    <tr>\n",
       "      <th>0</th>\n",
       "      <td>0</td>\n",
       "      <td>What is the key of the song 'Let It Be' by The...</td>\n",
       "    </tr>\n",
       "    <tr>\n",
       "      <th>1</th>\n",
       "      <td>0</td>\n",
       "      <td>Can you provide the chord progression for 'Let...</td>\n",
       "    </tr>\n",
       "    <tr>\n",
       "      <th>2</th>\n",
       "      <td>0</td>\n",
       "      <td>What is the tempo in beats per minute for 'Let...</td>\n",
       "    </tr>\n",
       "    <tr>\n",
       "      <th>3</th>\n",
       "      <td>0</td>\n",
       "      <td>Which cadence is used at the end of 'Let It Be'?</td>\n",
       "    </tr>\n",
       "    <tr>\n",
       "      <th>4</th>\n",
       "      <td>0</td>\n",
       "      <td>What is the time signature of 'Let It Be'?</td>\n",
       "    </tr>\n",
       "  </tbody>\n",
       "</table>\n",
       "</div>"
      ],
      "text/plain": [
       "   id                                           question\n",
       "0   0  What is the key of the song 'Let It Be' by The...\n",
       "1   0  Can you provide the chord progression for 'Let...\n",
       "2   0  What is the tempo in beats per minute for 'Let...\n",
       "3   0   Which cadence is used at the end of 'Let It Be'?\n",
       "4   0         What is the time signature of 'Let It Be'?"
      ]
     },
     "execution_count": 68,
     "metadata": {},
     "output_type": "execute_result"
    }
   ],
   "source": [
    "df_question.head()"
   ]
  },
  {
   "cell_type": "code",
   "execution_count": 69,
   "id": "c95c7ba3-4b56-47ab-8c21-711ddda77c90",
   "metadata": {},
   "outputs": [],
   "source": [
    "ground_truth = df_question.to_dict(orient='records')"
   ]
  },
  {
   "cell_type": "code",
   "execution_count": 70,
   "id": "3fea8888-eca9-45f4-8fc1-ea8ca938eb23",
   "metadata": {},
   "outputs": [
    {
     "data": {
      "text/plain": [
       "{'id': 0,\n",
       " 'question': \"What is the key of the song 'Let It Be' by The Beatles?\"}"
      ]
     },
     "execution_count": 70,
     "metadata": {},
     "output_type": "execute_result"
    }
   ],
   "source": [
    "ground_truth[0]"
   ]
  },
  {
   "cell_type": "code",
   "execution_count": 71,
   "id": "ea5933f2-cc44-41fa-9450-e2d219b3991b",
   "metadata": {},
   "outputs": [],
   "source": [
    "def hit_rate(relevance_total):\n",
    "    cnt = 0\n",
    "\n",
    "    for line in relevance_total:\n",
    "        if True in line:\n",
    "            cnt = cnt + 1\n",
    "\n",
    "    return cnt / len(relevance_total)\n",
    "\n",
    "def mrr(relevance_total):\n",
    "    total_score = 0.0\n",
    "\n",
    "    for line in relevance_total:\n",
    "        for rank in range(len(line)):\n",
    "            if line[rank] == True:\n",
    "                total_score = total_score + 1 / (rank + 1)\n",
    "\n",
    "    return total_score / len(relevance_total)"
   ]
  },
  {
   "cell_type": "code",
   "execution_count": 72,
   "id": "33152e47-668c-4a26-b1f8-117201e95978",
   "metadata": {},
   "outputs": [],
   "source": [
    "def evaluate(ground_truth, search_function):\n",
    "    relevance_total = []\n",
    "\n",
    "    for q in tqdm(ground_truth):\n",
    "        doc_id = q['id']\n",
    "        results = search_function(q)\n",
    "        relevance = [d['id'] == doc_id for d in results]\n",
    "        relevance_total.append(relevance)\n",
    "\n",
    "    return {\n",
    "        'hit_rate': hit_rate(relevance_total),\n",
    "        'mrr': mrr(relevance_total),\n",
    "    }"
   ]
  },
  {
   "cell_type": "markdown",
   "id": "fb891e29-6319-4cbd-8d6e-70720aca8f0c",
   "metadata": {},
   "source": [
    "### Retrieval Evaluation - minsearch (text search)"
   ]
  },
  {
   "cell_type": "code",
   "execution_count": 74,
   "id": "ce3a4688-e99e-4254-9471-e67422dd9113",
   "metadata": {},
   "outputs": [],
   "source": [
    "from tqdm.auto import tqdm"
   ]
  },
  {
   "cell_type": "code",
   "execution_count": 75,
   "id": "0b7e88e9-ec05-4b51-b08c-699f4d243027",
   "metadata": {},
   "outputs": [
    {
     "data": {
      "application/vnd.jupyter.widget-view+json": {
       "model_id": "49632b7974374422964adfacf8588b33",
       "version_major": 2,
       "version_minor": 0
      },
      "text/plain": [
       "  0%|          | 0/500 [00:00<?, ?it/s]"
      ]
     },
     "metadata": {},
     "output_type": "display_data"
    },
    {
     "data": {
      "text/plain": [
       "{'hit_rate': 0.914, 'mrr': 0.6267063492063489}"
      ]
     },
     "execution_count": 75,
     "metadata": {},
     "output_type": "execute_result"
    }
   ],
   "source": [
    "evaluate(ground_truth, lambda q: search(q['question']))"
   ]
  },
  {
   "cell_type": "markdown",
   "id": "b0f89c49-9364-4006-8974-5c94da24c97a",
   "metadata": {},
   "source": [
    "#### Improve Parameters for minsearch"
   ]
  },
  {
   "cell_type": "code",
   "execution_count": 48,
   "id": "b786687e-f57d-471f-b949-e3e0e7c46da7",
   "metadata": {},
   "outputs": [],
   "source": [
    "df_validation = df_question[:100]\n",
    "df_test = df_question[100:]"
   ]
  },
  {
   "cell_type": "code",
   "execution_count": 49,
   "id": "ee284fa0-9160-41e0-9a51-8821a5a8b935",
   "metadata": {},
   "outputs": [],
   "source": [
    "import random\n",
    "\n",
    "def simple_optimize(param_ranges, objective_function, n_iterations=10):\n",
    "    best_params = None\n",
    "    best_score = float('-inf')  # Assuming we're minimizing. Use float('-inf') if maximizing.\n",
    "\n",
    "    for _ in range(n_iterations):\n",
    "        # Generate random parameters\n",
    "        current_params = {}\n",
    "        for param, (min_val, max_val) in param_ranges.items():\n",
    "            if isinstance(min_val, int) and isinstance(max_val, int):\n",
    "                current_params[param] = random.randint(min_val, max_val)\n",
    "            else:\n",
    "                current_params[param] = random.uniform(min_val, max_val)\n",
    "        \n",
    "        # Evaluate the objective function\n",
    "        current_score = objective_function(current_params)\n",
    "        \n",
    "        # Update best if current is better\n",
    "        if current_score > best_score:  # Change to > if maximizing\n",
    "            best_score = current_score\n",
    "            best_params = current_params\n",
    "    \n",
    "    return best_params, best_score"
   ]
  },
  {
   "cell_type": "code",
   "execution_count": 50,
   "id": "f95679f4-6a48-47c7-8617-e464ecc503ca",
   "metadata": {},
   "outputs": [],
   "source": [
    "gt_val = df_validation.to_dict(orient='records')"
   ]
  },
  {
   "cell_type": "code",
   "execution_count": 51,
   "id": "757cd3e7-4eaa-4124-879d-00bc3c1426ea",
   "metadata": {},
   "outputs": [],
   "source": [
    "def minsearch_search(query, boost=None):\n",
    "    if boost is None:\n",
    "        boost = {}\n",
    "\n",
    "    results = index.search(\n",
    "        query=query,\n",
    "        filter_dict={},\n",
    "        boost_dict=boost,\n",
    "        num_results=10\n",
    "    )\n",
    "\n",
    "    return results"
   ]
  },
  {
   "cell_type": "code",
   "execution_count": 52,
   "id": "de21d206-b5e9-4c9d-9f87-a993536a0c02",
   "metadata": {},
   "outputs": [],
   "source": [
    "param_ranges = {\n",
    "    'title': (0.0, 3.0),\n",
    "    'artist': (0.0, 3.0),\n",
    "    'genre': (0.0, 3.0),\n",
    "    'key': (0.0, 3.0),\n",
    "    'tempo_bpm': (0.0, 3.0),\n",
    "    'time_signature': (0.0, 3.0),\n",
    "    'chord_progression': (0.0, 3.0),\n",
    "    'roman_numerals': (0.0, 3.0),\n",
    "    'cadence': (0.0, 3.0),\n",
    "    'theory_notes': (0.0, 3.0)\n",
    "}\n",
    "\n",
    "def objective(boost_params):\n",
    "    def search_function(q):\n",
    "        return minsearch_search(q['question'], boost_params)\n",
    "\n",
    "    results = evaluate(gt_val, search_function)\n",
    "    return results['mrr']"
   ]
  },
  {
   "cell_type": "code",
   "execution_count": 53,
   "id": "89a01c3b-c710-4f66-8a35-f6b5bcca89cb",
   "metadata": {},
   "outputs": [
    {
     "data": {
      "application/vnd.jupyter.widget-view+json": {
       "model_id": "f8394b4d051547c996c2139ccdd2f2c7",
       "version_major": 2,
       "version_minor": 0
      },
      "text/plain": [
       "  0%|          | 0/100 [00:00<?, ?it/s]"
      ]
     },
     "metadata": {},
     "output_type": "display_data"
    },
    {
     "data": {
      "application/vnd.jupyter.widget-view+json": {
       "model_id": "9e90e7c1df3c46e1826e39be7781011c",
       "version_major": 2,
       "version_minor": 0
      },
      "text/plain": [
       "  0%|          | 0/100 [00:00<?, ?it/s]"
      ]
     },
     "metadata": {},
     "output_type": "display_data"
    },
    {
     "data": {
      "application/vnd.jupyter.widget-view+json": {
       "model_id": "fd95032fea4844c78f271f1fd1cc6390",
       "version_major": 2,
       "version_minor": 0
      },
      "text/plain": [
       "  0%|          | 0/100 [00:00<?, ?it/s]"
      ]
     },
     "metadata": {},
     "output_type": "display_data"
    },
    {
     "data": {
      "application/vnd.jupyter.widget-view+json": {
       "model_id": "0c1888e3872c4562a2b4564d4e80fd69",
       "version_major": 2,
       "version_minor": 0
      },
      "text/plain": [
       "  0%|          | 0/100 [00:00<?, ?it/s]"
      ]
     },
     "metadata": {},
     "output_type": "display_data"
    },
    {
     "data": {
      "application/vnd.jupyter.widget-view+json": {
       "model_id": "82684ca23e4249769ad1ab253906744f",
       "version_major": 2,
       "version_minor": 0
      },
      "text/plain": [
       "  0%|          | 0/100 [00:00<?, ?it/s]"
      ]
     },
     "metadata": {},
     "output_type": "display_data"
    },
    {
     "data": {
      "application/vnd.jupyter.widget-view+json": {
       "model_id": "03522222b6cb4074ac5d12c090712188",
       "version_major": 2,
       "version_minor": 0
      },
      "text/plain": [
       "  0%|          | 0/100 [00:00<?, ?it/s]"
      ]
     },
     "metadata": {},
     "output_type": "display_data"
    },
    {
     "data": {
      "application/vnd.jupyter.widget-view+json": {
       "model_id": "ce0d895d939746aaa228562a5369c9c6",
       "version_major": 2,
       "version_minor": 0
      },
      "text/plain": [
       "  0%|          | 0/100 [00:00<?, ?it/s]"
      ]
     },
     "metadata": {},
     "output_type": "display_data"
    },
    {
     "data": {
      "application/vnd.jupyter.widget-view+json": {
       "model_id": "eececfcdeb3e4ef6bbc1f2f0e0120d83",
       "version_major": 2,
       "version_minor": 0
      },
      "text/plain": [
       "  0%|          | 0/100 [00:00<?, ?it/s]"
      ]
     },
     "metadata": {},
     "output_type": "display_data"
    },
    {
     "data": {
      "application/vnd.jupyter.widget-view+json": {
       "model_id": "b6c0fe36615a455f99b8f8105a234240",
       "version_major": 2,
       "version_minor": 0
      },
      "text/plain": [
       "  0%|          | 0/100 [00:00<?, ?it/s]"
      ]
     },
     "metadata": {},
     "output_type": "display_data"
    },
    {
     "data": {
      "application/vnd.jupyter.widget-view+json": {
       "model_id": "b2d86c4df6e74493924ff82ed1d7eca0",
       "version_major": 2,
       "version_minor": 0
      },
      "text/plain": [
       "  0%|          | 0/100 [00:00<?, ?it/s]"
      ]
     },
     "metadata": {},
     "output_type": "display_data"
    },
    {
     "data": {
      "application/vnd.jupyter.widget-view+json": {
       "model_id": "958b722612b242138049cf9f394f7744",
       "version_major": 2,
       "version_minor": 0
      },
      "text/plain": [
       "  0%|          | 0/100 [00:00<?, ?it/s]"
      ]
     },
     "metadata": {},
     "output_type": "display_data"
    },
    {
     "data": {
      "application/vnd.jupyter.widget-view+json": {
       "model_id": "c67b3c003b1a4493bb4ec9fe1986950f",
       "version_major": 2,
       "version_minor": 0
      },
      "text/plain": [
       "  0%|          | 0/100 [00:00<?, ?it/s]"
      ]
     },
     "metadata": {},
     "output_type": "display_data"
    },
    {
     "data": {
      "application/vnd.jupyter.widget-view+json": {
       "model_id": "20aa5ee6568a45f590e428e0778aad7c",
       "version_major": 2,
       "version_minor": 0
      },
      "text/plain": [
       "  0%|          | 0/100 [00:00<?, ?it/s]"
      ]
     },
     "metadata": {},
     "output_type": "display_data"
    },
    {
     "data": {
      "application/vnd.jupyter.widget-view+json": {
       "model_id": "34c23fc365ee4f999f681e39e38865a8",
       "version_major": 2,
       "version_minor": 0
      },
      "text/plain": [
       "  0%|          | 0/100 [00:00<?, ?it/s]"
      ]
     },
     "metadata": {},
     "output_type": "display_data"
    },
    {
     "data": {
      "application/vnd.jupyter.widget-view+json": {
       "model_id": "289cabe658f94dc5bfc03ef05cb5b87f",
       "version_major": 2,
       "version_minor": 0
      },
      "text/plain": [
       "  0%|          | 0/100 [00:00<?, ?it/s]"
      ]
     },
     "metadata": {},
     "output_type": "display_data"
    },
    {
     "data": {
      "application/vnd.jupyter.widget-view+json": {
       "model_id": "aa2b4c4761fc49f98d102998e5d07175",
       "version_major": 2,
       "version_minor": 0
      },
      "text/plain": [
       "  0%|          | 0/100 [00:00<?, ?it/s]"
      ]
     },
     "metadata": {},
     "output_type": "display_data"
    },
    {
     "data": {
      "application/vnd.jupyter.widget-view+json": {
       "model_id": "9fb3414775194ee0b1e07de69005ba73",
       "version_major": 2,
       "version_minor": 0
      },
      "text/plain": [
       "  0%|          | 0/100 [00:00<?, ?it/s]"
      ]
     },
     "metadata": {},
     "output_type": "display_data"
    },
    {
     "data": {
      "application/vnd.jupyter.widget-view+json": {
       "model_id": "2e63c9cf16f84af8b7628a9d51f4182a",
       "version_major": 2,
       "version_minor": 0
      },
      "text/plain": [
       "  0%|          | 0/100 [00:00<?, ?it/s]"
      ]
     },
     "metadata": {},
     "output_type": "display_data"
    },
    {
     "data": {
      "application/vnd.jupyter.widget-view+json": {
       "model_id": "62a0e0b1d0e74787be4d8301b15cb470",
       "version_major": 2,
       "version_minor": 0
      },
      "text/plain": [
       "  0%|          | 0/100 [00:00<?, ?it/s]"
      ]
     },
     "metadata": {},
     "output_type": "display_data"
    },
    {
     "data": {
      "application/vnd.jupyter.widget-view+json": {
       "model_id": "8a93b649667444ddb628bcd7d1edaa91",
       "version_major": 2,
       "version_minor": 0
      },
      "text/plain": [
       "  0%|          | 0/100 [00:00<?, ?it/s]"
      ]
     },
     "metadata": {},
     "output_type": "display_data"
    },
    {
     "data": {
      "text/plain": [
       "({'title': 2.8323160442386586,\n",
       "  'artist': 0.5818272140863803,\n",
       "  'genre': 0.7484183054006688,\n",
       "  'key': 1.518348518481425,\n",
       "  'tempo_bpm': 1.0219632472572906,\n",
       "  'time_signature': 0.8019925951212504,\n",
       "  'chord_progression': 2.6938161757646277,\n",
       "  'roman_numerals': 1.922131437342809,\n",
       "  'cadence': 1.0644438314732327,\n",
       "  'theory_notes': 0.15173237549453888},\n",
       " 0.8453333333333333)"
      ]
     },
     "execution_count": 53,
     "metadata": {},
     "output_type": "execute_result"
    }
   ],
   "source": [
    "simple_optimize(param_ranges, objective, n_iterations=20)"
   ]
  },
  {
   "cell_type": "code",
   "execution_count": 54,
   "id": "f353ffe4-44e3-4bc6-be88-481ae74eaeee",
   "metadata": {},
   "outputs": [
    {
     "data": {
      "application/vnd.jupyter.widget-view+json": {
       "model_id": "7944e6768b0447cfb633166f1137b3ff",
       "version_major": 2,
       "version_minor": 0
      },
      "text/plain": [
       "  0%|          | 0/500 [00:00<?, ?it/s]"
      ]
     },
     "metadata": {},
     "output_type": "display_data"
    },
    {
     "data": {
      "text/plain": [
       "{'hit_rate': 0.926, 'mrr': 0.91015}"
      ]
     },
     "execution_count": 54,
     "metadata": {},
     "output_type": "execute_result"
    }
   ],
   "source": [
    "def minsearch_improved(query):\n",
    "    boost = {\n",
    "        'title': 2.83,\n",
    "        'artist': 0.58,\n",
    "        'genre': 0.75,\n",
    "        'key': 1.52,\n",
    "        'tempo_bpm': 1.02,\n",
    "        'time_signature': 0.80,\n",
    "        'chord_progression': 2.69,\n",
    "        'roman_numerals': 1.92,\n",
    "        'cadence': 1.06,\n",
    "        'theory_notes': 0.15\n",
    "    }\n",
    "\n",
    "    results = index.search(\n",
    "        query=query,\n",
    "        filter_dict={},\n",
    "        boost_dict=boost,\n",
    "        num_results=10\n",
    "    )\n",
    "\n",
    "    return results\n",
    "\n",
    "evaluate(ground_truth, lambda q: minsearch_improved(q['question']))"
   ]
  },
  {
   "cell_type": "markdown",
   "id": "0b640569-488a-43b2-b30b-9fc491e844d4",
   "metadata": {},
   "source": [
    "### Retrieval Evaluation - Qdrant (vector search)"
   ]
  },
  {
   "cell_type": "code",
   "execution_count": 76,
   "id": "044f1104-d2dc-4439-92ff-858557fbac00",
   "metadata": {},
   "outputs": [
    {
     "data": {
      "application/vnd.jupyter.widget-view+json": {
       "model_id": "6be9a627d3b84156ac92d80aec866393",
       "version_major": 2,
       "version_minor": 0
      },
      "text/plain": [
       "  0%|          | 0/500 [00:00<?, ?it/s]"
      ]
     },
     "metadata": {},
     "output_type": "display_data"
    },
    {
     "data": {
      "text/plain": [
       "{'hit_rate': 0.914, 'mrr': 0.8712936507936508}"
      ]
     },
     "execution_count": 76,
     "metadata": {},
     "output_type": "execute_result"
    }
   ],
   "source": [
    "evaluate(ground_truth, lambda q: vector_search(q['question']))"
   ]
  },
  {
   "cell_type": "markdown",
   "id": "94392d7f-8e9d-4819-815a-948c5d0c6a14",
   "metadata": {},
   "source": [
    "### Retrieval Evaluation - Qdrant (vector search hybrid)"
   ]
  },
  {
   "cell_type": "code",
   "execution_count": 77,
   "id": "4445c540-e754-4706-8dab-b7e1b95989e7",
   "metadata": {},
   "outputs": [
    {
     "data": {
      "application/vnd.jupyter.widget-view+json": {
       "model_id": "6f6331050d0e4a098295e6f01d7e5185",
       "version_major": 2,
       "version_minor": 0
      },
      "text/plain": [
       "  0%|          | 0/500 [00:00<?, ?it/s]"
      ]
     },
     "metadata": {},
     "output_type": "display_data"
    },
    {
     "data": {
      "text/plain": [
       "{'hit_rate': 0.914, 'mrr': 0.8712936507936508}"
      ]
     },
     "execution_count": 77,
     "metadata": {},
     "output_type": "execute_result"
    }
   ],
   "source": [
    "evaluate(ground_truth, lambda q: vector_search_hybrid(q['question']))"
   ]
  },
  {
   "cell_type": "markdown",
   "id": "b8fe96cb-9fff-4462-b4f1-abbd2a59bbbf",
   "metadata": {},
   "source": [
    "### Retrieval Evaluation - Qdrant (vector search hybrid re-rank)"
   ]
  },
  {
   "cell_type": "code",
   "execution_count": 78,
   "id": "5657c7b7-aab3-4728-9034-5b351d42eb4a",
   "metadata": {},
   "outputs": [
    {
     "data": {
      "application/vnd.jupyter.widget-view+json": {
       "model_id": "9e7ac13b5c804c5aa205c89a6a0c466e",
       "version_major": 2,
       "version_minor": 0
      },
      "text/plain": [
       "  0%|          | 0/500 [00:00<?, ?it/s]"
      ]
     },
     "metadata": {},
     "output_type": "display_data"
    },
    {
     "data": {
      "text/plain": [
       "{'hit_rate': 0.914, 'mrr': 0.5521246031746028}"
      ]
     },
     "execution_count": 78,
     "metadata": {},
     "output_type": "execute_result"
    }
   ],
   "source": [
    "evaluate(ground_truth, lambda q: vector_search_hybrid_rerank(q['question']))"
   ]
  },
  {
   "cell_type": "markdown",
   "id": "1408b345-08f1-46da-86ca-ce1efac8a151",
   "metadata": {},
   "source": [
    "## LLM Evaluation"
   ]
  },
  {
   "cell_type": "markdown",
   "id": "c8bd2bc2-830b-4ceb-8b55-9f60270159e5",
   "metadata": {},
   "source": [
    "The RAG flow is evaluated below using the following 2 offline methods:\n",
    "- Cosine Similarity\n",
    "- LLM-as-a-Judge"
   ]
  },
  {
   "cell_type": "markdown",
   "id": "2f90a164-c4eb-42cc-8bd0-0befcf883b89",
   "metadata": {},
   "source": [
    "### Cosine Similarity"
   ]
  },
  {
   "cell_type": "markdown",
   "id": "ace9dd6b-9d64-434e-b901-628fe43bc982",
   "metadata": {},
   "source": [
    "The code below is used to calculate the cosine similarity between an answer generated by the RAG system with the actual answer from the music theory dataset. First it evaluates the cosine for a single question, then it generates a CSV with LLM answers to all of the questions in the ground truth dataset and evaluates the cosine with the original dataset for each one."
   ]
  },
  {
   "cell_type": "code",
   "execution_count": 56,
   "id": "51c04168-6dd2-4b68-881a-9150106d949b",
   "metadata": {},
   "outputs": [
    {
     "name": "stdout",
     "output_type": "stream",
     "text": [
      "{'id': 0, 'question': \"Which cadence is used at the end of 'Let It Be'?\"}\n"
     ]
    }
   ],
   "source": [
    "# Get a question from the ground truth data set\n",
    "eval_question = ground_truth[3]\n",
    "print(eval_question)"
   ]
  },
  {
   "cell_type": "code",
   "execution_count": 59,
   "id": "39a03a1a-0f03-46f4-ab90-70c273c869c0",
   "metadata": {},
   "outputs": [
    {
     "name": "stdout",
     "output_type": "stream",
     "text": [
      "The cadence used at the end of \"Let It Be\" is an Authentic (IV–I) cadence.\n"
     ]
    }
   ],
   "source": [
    "# use the Minsearch improved search to get the answer to the question above (because it's the best one so far)\n",
    "answer_llm = rag(eval_question['question'], retriever_fn=minsearch_improved)\n",
    "print(answer_llm)"
   ]
  },
  {
   "cell_type": "code",
   "execution_count": 60,
   "id": "c42cfecd-455f-4812-a2cf-3d709b5dde06",
   "metadata": {},
   "outputs": [
    {
     "data": {
      "text/plain": [
       "{'id': 0,\n",
       " 'title': 'Let It Be',\n",
       " 'artist': 'The Beatles',\n",
       " 'genre': 'Pop',\n",
       " 'key': 'C major',\n",
       " 'tempo_bpm': '76',\n",
       " 'time_signature': '4/4',\n",
       " 'chord_progression': 'C – G – Am – F – C – G – F – C',\n",
       " 'roman_numerals': 'I – V – vi – IV – I – V – IV – I',\n",
       " 'cadence': 'Authentic (IV–I) at end; Deceptive (V–vi) earlier',\n",
       " 'theory_notes': 'Diatonic progression; Deceptive cadence in early phrase; Clear tonic return'}"
      ]
     },
     "execution_count": 60,
     "metadata": {},
     "output_type": "execute_result"
    }
   ],
   "source": [
    "# Get the original dataset item with answer to the question above\n",
    "documents[eval_question['id']]"
   ]
  },
  {
   "cell_type": "code",
   "execution_count": 61,
   "id": "383752f2-0922-422b-9438-e42aa63a630f",
   "metadata": {},
   "outputs": [
    {
     "name": "stdout",
     "output_type": "stream",
     "text": [
      "Authentic (IV–I) at end; Deceptive (V–vi) earlier\n"
     ]
    }
   ],
   "source": [
    "doc_idx = {d['id']: d for d in documents}\n",
    "answer_orig = doc_idx[eval_question['id']]['cadence']\n",
    "print(answer_orig)"
   ]
  },
  {
   "cell_type": "code",
   "execution_count": 63,
   "id": "3b858a80-fc81-437b-991d-4581a4c4b415",
   "metadata": {},
   "outputs": [
    {
     "name": "stdout",
     "output_type": "stream",
     "text": [
      "Cosine similarity: 0.47456914\n"
     ]
    }
   ],
   "source": [
    "from sentence_transformers import SentenceTransformer\n",
    "\n",
    "# Load a sentence transformer model to generate embeddings\n",
    "model = SentenceTransformer('all-MiniLM-L6-v2')\n",
    "\n",
    "# Encode answers\n",
    "v_orig = model.encode(answer_orig)\n",
    "v_llm = model.encode(answer_llm)\n",
    "\n",
    "# Compute cosine similarity\n",
    "cos_sim = v_llm.dot(v_orig)\n",
    "print(\"Cosine similarity:\", cos_sim)"
   ]
  },
  {
   "cell_type": "code",
   "execution_count": 67,
   "id": "00aaae0e-0aba-4a6c-abb3-04ae7514538f",
   "metadata": {},
   "outputs": [
    {
     "data": {
      "application/vnd.jupyter.widget-view+json": {
       "model_id": "0e81cc37f9354cca9973159913195473",
       "version_major": 2,
       "version_minor": 0
      },
      "text/plain": [
       "  0%|          | 0/500 [00:00<?, ?it/s]"
      ]
     },
     "metadata": {},
     "output_type": "display_data"
    },
    {
     "name": "stdout",
     "output_type": "stream",
     "text": [
      "mkdir: cannot create directory ‘data’: File exists\n",
      "Saved 500 rows to data/results-gpt4o-mini.csv\n"
     ]
    },
    {
     "name": "stderr",
     "output_type": "stream",
     "text": [
      "huggingface/tokenizers: The current process just got forked, after parallelism has already been used. Disabling parallelism to avoid deadlocks...\n",
      "To disable this warning, you can either:\n",
      "\t- Avoid using `tokenizers` before the fork if possible\n",
      "\t- Explicitly set the environment variable TOKENIZERS_PARALLELISM=(true | false)\n"
     ]
    }
   ],
   "source": [
    "# Now generate a file containing the ground truth questions with answers\n",
    "# from both the LLM and the original dataset\n",
    "OUTPUT_PATH = \"../data/results-gpt4o-mini.csv\"\n",
    "\n",
    "if not os.path.exists(OUTPUT_PATH):\n",
    "    answers = {}\n",
    "\n",
    "    for i, rec in enumerate(tqdm(ground_truth)):\n",
    "        if i in answers:\n",
    "            continue\n",
    "    \n",
    "        answer_llm = rag(rec['question'], retriever_fn=minsearch_improved)\n",
    "        doc_id = rec['id']\n",
    "        original_doc = doc_idx[doc_id]\n",
    "        answer_orig = \" | \".join(f\"{k}: {v}\" for k, v in original_doc.items())\n",
    "    \n",
    "        answers[i] = {      \n",
    "            'id': doc_id,\n",
    "            'question': rec['question'],\n",
    "            'answer_llm': answer_llm,\n",
    "            'answer_orig': answer_orig\n",
    "        }\n",
    "\n",
    "    results_gpt4o_mini = [None] * len(ground_truth)\n",
    "\n",
    "    for i, val in answers.items():\n",
    "        results_gpt4o_mini[i] = val.copy()\n",
    "        results_gpt4o_mini[i].update(ground_truth[i])\n",
    "\n",
    "    df_gpt4o_mini = pd.DataFrame(results_gpt4o_mini)\n",
    "\n",
    "    !mkdir data\n",
    "\n",
    "    df_gpt4o_mini.to_csv(OUTPUT_PATH, index=False)\n",
    "    print(f\"Saved {len(df_gpt4o_mini)} rows to data/results-gpt4o-mini.csv\")\n",
    "else:\n",
    "    print(f\"File already exists: {OUTPUT_PATH} — skipping generation.\")\n",
    "    df_gpt4o_mini = pd.read_csv(OUTPUT_PATH)\n",
    "    df_gpt4o_mini.to_csv(OUTPUT_PATH, index=False)"
   ]
  },
  {
   "cell_type": "code",
   "execution_count": 68,
   "id": "fb15162b-3a40-4ecd-936d-b012d5f7e598",
   "metadata": {},
   "outputs": [
    {
     "data": {
      "text/html": [
       "<div>\n",
       "<style scoped>\n",
       "    .dataframe tbody tr th:only-of-type {\n",
       "        vertical-align: middle;\n",
       "    }\n",
       "\n",
       "    .dataframe tbody tr th {\n",
       "        vertical-align: top;\n",
       "    }\n",
       "\n",
       "    .dataframe thead th {\n",
       "        text-align: right;\n",
       "    }\n",
       "</style>\n",
       "<table border=\"1\" class=\"dataframe\">\n",
       "  <thead>\n",
       "    <tr style=\"text-align: right;\">\n",
       "      <th></th>\n",
       "      <th>id</th>\n",
       "      <th>question</th>\n",
       "      <th>answer_llm</th>\n",
       "      <th>answer_orig</th>\n",
       "    </tr>\n",
       "  </thead>\n",
       "  <tbody>\n",
       "    <tr>\n",
       "      <th>299</th>\n",
       "      <td>59</td>\n",
       "      <td>How does the song structure utilize call and r...</td>\n",
       "      <td>The song structure utilizes call and response ...</td>\n",
       "      <td>id: 59 | title: We Will Rock You | artist: Que...</td>\n",
       "    </tr>\n",
       "    <tr>\n",
       "      <th>38</th>\n",
       "      <td>7</td>\n",
       "      <td>What is the significance of the cadence found ...</td>\n",
       "      <td>The significance of the cadence found in \"The ...</td>\n",
       "      <td>id: 7 | title: Moonlight Sonata | artist: Ludw...</td>\n",
       "    </tr>\n",
       "    <tr>\n",
       "      <th>404</th>\n",
       "      <td>80</td>\n",
       "      <td>What emotional themes are present in 'Hurt'?</td>\n",
       "      <td>The emotional themes present in \"Hurt\" by Nine...</td>\n",
       "      <td>id: 80 | title: Hurt | artist: Nine Inch Nails...</td>\n",
       "    </tr>\n",
       "    <tr>\n",
       "      <th>342</th>\n",
       "      <td>68</td>\n",
       "      <td>What is the tempo of 'Light My Fire' in BPM?</td>\n",
       "      <td>The tempo of \"Light My Fire\" is 126 BPM.</td>\n",
       "      <td>id: 68 | title: Light My Fire | artist: The Do...</td>\n",
       "    </tr>\n",
       "    <tr>\n",
       "      <th>313</th>\n",
       "      <td>62</td>\n",
       "      <td>What is the tempo of the track 'Superstition'?</td>\n",
       "      <td>The tempo of the track 'Superstition' is 100 BPM.</td>\n",
       "      <td>id: 62 | title: Superstition | artist: Stevie ...</td>\n",
       "    </tr>\n",
       "  </tbody>\n",
       "</table>\n",
       "</div>"
      ],
      "text/plain": [
       "     id                                           question  \\\n",
       "299  59  How does the song structure utilize call and r...   \n",
       "38    7  What is the significance of the cadence found ...   \n",
       "404  80       What emotional themes are present in 'Hurt'?   \n",
       "342  68       What is the tempo of 'Light My Fire' in BPM?   \n",
       "313  62     What is the tempo of the track 'Superstition'?   \n",
       "\n",
       "                                            answer_llm  \\\n",
       "299  The song structure utilizes call and response ...   \n",
       "38   The significance of the cadence found in \"The ...   \n",
       "404  The emotional themes present in \"Hurt\" by Nine...   \n",
       "342           The tempo of \"Light My Fire\" is 126 BPM.   \n",
       "313  The tempo of the track 'Superstition' is 100 BPM.   \n",
       "\n",
       "                                           answer_orig  \n",
       "299  id: 59 | title: We Will Rock You | artist: Que...  \n",
       "38   id: 7 | title: Moonlight Sonata | artist: Ludw...  \n",
       "404  id: 80 | title: Hurt | artist: Nine Inch Nails...  \n",
       "342  id: 68 | title: Light My Fire | artist: The Do...  \n",
       "313  id: 62 | title: Superstition | artist: Stevie ...  "
      ]
     },
     "execution_count": 68,
     "metadata": {},
     "output_type": "execute_result"
    }
   ],
   "source": [
    " df_gpt4o_mini.sample(n=5)"
   ]
  },
  {
   "cell_type": "markdown",
   "id": "7ba356ad-fcbd-442d-a8c3-c3fca4373699",
   "metadata": {},
   "source": [
    "#### gpt-4o-mini"
   ]
  },
  {
   "cell_type": "code",
   "execution_count": 69,
   "id": "401b451c-10ac-4b97-a3e1-8eebf9049628",
   "metadata": {},
   "outputs": [],
   "source": [
    "results_gpt4o_mini = df_gpt4o_mini.to_dict(orient='records')"
   ]
  },
  {
   "cell_type": "code",
   "execution_count": 70,
   "id": "d15b79e6-c413-4c75-9fc8-ecb20dcc17f8",
   "metadata": {},
   "outputs": [],
   "source": [
    "record = results_gpt4o_mini[0]"
   ]
  },
  {
   "cell_type": "code",
   "execution_count": 71,
   "id": "ba4dd81e-800a-4ed0-8cfe-1f8f540005dc",
   "metadata": {},
   "outputs": [],
   "source": [
    "def compute_similarity(record):\n",
    "    answer_orig = record['answer_orig']\n",
    "    answer_llm = record['answer_llm']\n",
    "    \n",
    "    v_llm = model.encode(answer_llm)\n",
    "    v_orig = model.encode(answer_orig)\n",
    "    \n",
    "    return v_llm.dot(v_orig)"
   ]
  },
  {
   "cell_type": "code",
   "execution_count": 72,
   "id": "6d4df91f-8b0a-4f6f-8871-89d60af5b39d",
   "metadata": {},
   "outputs": [
    {
     "data": {
      "application/vnd.jupyter.widget-view+json": {
       "model_id": "0de9f43645bb491592be2bfbb43c30f9",
       "version_major": 2,
       "version_minor": 0
      },
      "text/plain": [
       "  0%|          | 0/500 [00:00<?, ?it/s]"
      ]
     },
     "metadata": {},
     "output_type": "display_data"
    }
   ],
   "source": [
    "similarity = []\n",
    "\n",
    "for record in tqdm(results_gpt4o_mini):\n",
    "    sim = compute_similarity(record)\n",
    "    similarity.append(sim)"
   ]
  },
  {
   "cell_type": "code",
   "execution_count": 74,
   "id": "1795f7ec-add5-4a85-ab00-efea1bce25d3",
   "metadata": {},
   "outputs": [
    {
     "data": {
      "text/plain": [
       "count    500.000000\n",
       "mean       0.568715\n",
       "std        0.120105\n",
       "min        0.205746\n",
       "25%        0.505190\n",
       "50%        0.582068\n",
       "75%        0.654365\n",
       "max        0.887017\n",
       "Name: cosine, dtype: float64"
      ]
     },
     "execution_count": 74,
     "metadata": {},
     "output_type": "execute_result"
    }
   ],
   "source": [
    "df_gpt4o_mini['cosine'] = similarity\n",
    "df_gpt4o_mini['cosine'].describe()"
   ]
  },
  {
   "cell_type": "markdown",
   "id": "5646cdaf-d4ca-48e1-bd24-12aec0a15c01",
   "metadata": {},
   "source": [
    "### LLM-as-a-Judge"
   ]
  },
  {
   "cell_type": "markdown",
   "id": "8418be5d-dc52-4e5a-bea0-bbbf8eef8bcd",
   "metadata": {},
   "source": [
    "The code below uses an LLM to determine the similarity or relevance between questions and the answers generated by an LLM."
   ]
  },
  {
   "cell_type": "code",
   "execution_count": 79,
   "id": "ff5427a4-f535-4f53-815c-e617766cc26a",
   "metadata": {},
   "outputs": [],
   "source": [
    "prompt_template_evaluation = \"\"\"\n",
    "You are an expert evaluator for a Retrieval-Augmented Generation (RAG) system.\n",
    "Your task is to analyze the relevance of the generated answer to the given question.\n",
    "Based on the relevance of the generated answer, you will classify it\n",
    "as \"NON_RELEVANT\", \"PARTLY_RELEVANT\", or \"RELEVANT\".\n",
    "\n",
    "Here is the data for evaluation:\n",
    "\n",
    "Question: {question}\n",
    "Generated Answer: {answer_llm}\n",
    "\n",
    "Please analyze the content and context of the generated answer in relation to the question\n",
    "and provide your evaluation in parsable JSON without using code blocks. Return ONLY valid JSON\n",
    "with double quotes, no comments, and no trailing commas. For example:\n",
    "\n",
    "{{\n",
    "  \"Relevance\": \"NON_RELEVANT\" | \"PARTLY_RELEVANT\" | \"RELEVANT\",\n",
    "  \"Explanation\": \"[Provide a brief explanation for your evaluation]\"\n",
    "}}\n",
    "\"\"\".strip()"
   ]
  },
  {
   "cell_type": "code",
   "execution_count": 80,
   "id": "a203fead-2a2a-44fc-9aba-82855848ba59",
   "metadata": {},
   "outputs": [
    {
     "data": {
      "text/plain": [
       "500"
      ]
     },
     "execution_count": 80,
     "metadata": {},
     "output_type": "execute_result"
    }
   ],
   "source": [
    "len(ground_truth)"
   ]
  },
  {
   "cell_type": "code",
   "execution_count": 81,
   "id": "01af79d2-f889-4009-b61f-7d340545e3aa",
   "metadata": {},
   "outputs": [],
   "source": [
    "record = ground_truth[0]\n",
    "question = record['question']\n",
    "answer_llm = rag(question, retriever_fn=minsearch_improved)"
   ]
  },
  {
   "cell_type": "code",
   "execution_count": 82,
   "id": "3d648576-4dee-4bcd-bbe0-2dc3b328fa20",
   "metadata": {},
   "outputs": [
    {
     "name": "stdout",
     "output_type": "stream",
     "text": [
      "What is the key of the song 'Let It Be' by The Beatles?\n"
     ]
    }
   ],
   "source": [
    "print(question)"
   ]
  },
  {
   "cell_type": "code",
   "execution_count": 83,
   "id": "92659b88-515b-4ad9-bb94-5a388ad5bc4d",
   "metadata": {},
   "outputs": [
    {
     "name": "stdout",
     "output_type": "stream",
     "text": [
      "The key of the song 'Let It Be' by The Beatles is C major.\n"
     ]
    }
   ],
   "source": [
    "print(answer_llm)"
   ]
  },
  {
   "cell_type": "code",
   "execution_count": 84,
   "id": "f4bc4838-d03f-46ba-9c4d-9a1583184557",
   "metadata": {},
   "outputs": [
    {
     "name": "stdout",
     "output_type": "stream",
     "text": [
      "You are an expert evaluator for a Retrieval-Augmented Generation (RAG) system.\n",
      "Your task is to analyze the relevance of the generated answer to the given question.\n",
      "Based on the relevance of the generated answer, you will classify it\n",
      "as \"NON_RELEVANT\", \"PARTLY_RELEVANT\", or \"RELEVANT\".\n",
      "\n",
      "Here is the data for evaluation:\n",
      "\n",
      "Question: What is the key of the song 'Let It Be' by The Beatles?\n",
      "Generated Answer: The key of the song 'Let It Be' by The Beatles is C major.\n",
      "\n",
      "Please analyze the content and context of the generated answer in relation to the question\n",
      "and provide your evaluation in parsable JSON without using code blocks. Return ONLY valid JSON\n",
      "with double quotes, no comments, and no trailing commas. For example:\n",
      "\n",
      "{\n",
      "  \"Relevance\": \"NON_RELEVANT\" | \"PARTLY_RELEVANT\" | \"RELEVANT\",\n",
      "  \"Explanation\": \"[Provide a brief explanation for your evaluation]\"\n",
      "}\n"
     ]
    }
   ],
   "source": [
    "prompt = prompt_template_evaluation.format(question=question, answer_llm=answer_llm)\n",
    "print(prompt)"
   ]
  },
  {
   "cell_type": "code",
   "execution_count": 85,
   "id": "b9a63f83-a7ff-466a-a40d-a7b8c0985c7b",
   "metadata": {},
   "outputs": [
    {
     "data": {
      "text/plain": [
       "'{\\n  \"Relevance\": \"RELEVANT\",\\n  \"Explanation\": \"The generated answer directly addresses the question by providing the key of the song \\'Let It Be\\' by The Beatles, which is exactly what was asked for.\" \\n}'"
      ]
     },
     "execution_count": 85,
     "metadata": {},
     "output_type": "execute_result"
    }
   ],
   "source": [
    "llm(prompt)"
   ]
  },
  {
   "cell_type": "code",
   "execution_count": 86,
   "id": "6a995d82-ed28-4bac-aed4-428f97edceb8",
   "metadata": {},
   "outputs": [],
   "source": [
    "import json"
   ]
  },
  {
   "cell_type": "code",
   "execution_count": 87,
   "id": "8670d5fd-5285-41cb-a726-1fc2a6787d89",
   "metadata": {},
   "outputs": [],
   "source": [
    "df_sample = df_question.sample(n=200, random_state=1)"
   ]
  },
  {
   "cell_type": "code",
   "execution_count": 88,
   "id": "06aefdc9-c6ee-448e-94e7-2c1dfcec1dbe",
   "metadata": {},
   "outputs": [],
   "source": [
    "sample = df_sample.to_dict(orient='records')"
   ]
  },
  {
   "cell_type": "code",
   "execution_count": 89,
   "id": "bc2697da-ba43-4138-8ecc-9825e572bada",
   "metadata": {},
   "outputs": [
    {
     "data": {
      "application/vnd.jupyter.widget-view+json": {
       "model_id": "fd7321bd1ab44c47ad606f00f7f539ab",
       "version_major": 2,
       "version_minor": 0
      },
      "text/plain": [
       "  0%|          | 0/200 [00:00<?, ?it/s]"
      ]
     },
     "metadata": {},
     "output_type": "display_data"
    }
   ],
   "source": [
    "evaluations = []\n",
    "\n",
    "for record in tqdm(sample):\n",
    "    question = record['question']\n",
    "    answer_llm = rag(question, retriever_fn=minsearch_improved) \n",
    "\n",
    "    prompt = prompt_template_evaluation.format(\n",
    "        question=question,\n",
    "        answer_llm=answer_llm\n",
    "    )\n",
    "\n",
    "    evaluation = llm(prompt)\n",
    "    evaluation = json.loads(evaluation)\n",
    "\n",
    "    evaluations.append((record, answer_llm, evaluation))"
   ]
  },
  {
   "cell_type": "code",
   "execution_count": 90,
   "id": "456c38ca-f6e0-40ad-af97-ac6153499e69",
   "metadata": {},
   "outputs": [],
   "source": [
    "df_eval = pd.DataFrame(evaluations, columns=['record', 'answer', 'evaluation'])\n",
    "\n",
    "df_eval['id'] = df_eval.record.apply(lambda d: d['id'])\n",
    "df_eval['question'] = df_eval.record.apply(lambda d: d['question'])\n",
    "\n",
    "df_eval['relevance'] = df_eval.evaluation.apply(lambda d: d['Relevance'])\n",
    "df_eval['explanation'] = df_eval.evaluation.apply(lambda d: d['Explanation'])\n",
    "\n",
    "del df_eval['record']\n",
    "del df_eval['evaluation']"
   ]
  },
  {
   "cell_type": "code",
   "execution_count": 91,
   "id": "2eb02a79-a30b-40ea-9024-d6c59fc043be",
   "metadata": {},
   "outputs": [
    {
     "data": {
      "text/plain": [
       "relevance\n",
       "RELEVANT           195\n",
       "PARTLY_RELEVANT      4\n",
       "NON_RELEVANT         1\n",
       "Name: count, dtype: int64"
      ]
     },
     "execution_count": 91,
     "metadata": {},
     "output_type": "execute_result"
    }
   ],
   "source": [
    "df_eval.relevance.value_counts()"
   ]
  },
  {
   "cell_type": "code",
   "execution_count": 92,
   "id": "c0f4926d-3446-4cfa-90fb-694ab24de6a2",
   "metadata": {},
   "outputs": [
    {
     "data": {
      "text/plain": [
       "relevance\n",
       "RELEVANT           0.975\n",
       "PARTLY_RELEVANT    0.020\n",
       "NON_RELEVANT       0.005\n",
       "Name: proportion, dtype: float64"
      ]
     },
     "execution_count": 92,
     "metadata": {},
     "output_type": "execute_result"
    }
   ],
   "source": [
    "df_eval.relevance.value_counts(normalize=True)"
   ]
  },
  {
   "cell_type": "code",
   "execution_count": 93,
   "id": "82c64b27-4c60-4326-b3af-2a3c076db722",
   "metadata": {},
   "outputs": [],
   "source": [
    "df_eval.to_csv('../data/rag-eval-gpt-4o-mini.csv', index=False)"
   ]
  },
  {
   "cell_type": "code",
   "execution_count": 94,
   "id": "ab9625af-75d3-4a05-a09f-40862e40c790",
   "metadata": {},
   "outputs": [
    {
     "data": {
      "text/html": [
       "<div>\n",
       "<style scoped>\n",
       "    .dataframe tbody tr th:only-of-type {\n",
       "        vertical-align: middle;\n",
       "    }\n",
       "\n",
       "    .dataframe tbody tr th {\n",
       "        vertical-align: top;\n",
       "    }\n",
       "\n",
       "    .dataframe thead th {\n",
       "        text-align: right;\n",
       "    }\n",
       "</style>\n",
       "<table border=\"1\" class=\"dataframe\">\n",
       "  <thead>\n",
       "    <tr style=\"text-align: right;\">\n",
       "      <th></th>\n",
       "      <th>answer</th>\n",
       "      <th>id</th>\n",
       "      <th>question</th>\n",
       "      <th>relevance</th>\n",
       "      <th>explanation</th>\n",
       "    </tr>\n",
       "  </thead>\n",
       "  <tbody>\n",
       "    <tr>\n",
       "      <th>72</th>\n",
       "      <td>The time signature for the piece Boléro is 3/4.</td>\n",
       "      <td>29</td>\n",
       "      <td>What is the time signature for the piece Boléro?</td>\n",
       "      <td>NON_RELEVANT</td>\n",
       "      <td>The time signature for Boléro is 3/4, which is...</td>\n",
       "    </tr>\n",
       "  </tbody>\n",
       "</table>\n",
       "</div>"
      ],
      "text/plain": [
       "                                             answer  id  \\\n",
       "72  The time signature for the piece Boléro is 3/4.  29   \n",
       "\n",
       "                                            question     relevance  \\\n",
       "72  What is the time signature for the piece Boléro?  NON_RELEVANT   \n",
       "\n",
       "                                          explanation  \n",
       "72  The time signature for Boléro is 3/4, which is...  "
      ]
     },
     "execution_count": 94,
     "metadata": {},
     "output_type": "execute_result"
    }
   ],
   "source": [
    "df_eval[df_eval.relevance == 'NON_RELEVANT']"
   ]
  },
  {
   "cell_type": "code",
   "execution_count": 95,
   "id": "0cd518eb-d276-441f-ae22-755016c72b53",
   "metadata": {},
   "outputs": [
    {
     "data": {
      "application/vnd.jupyter.widget-view+json": {
       "model_id": "851370b2195344349b0d4cbb1c4a93ca",
       "version_major": 2,
       "version_minor": 0
      },
      "text/plain": [
       "  0%|          | 0/200 [00:00<?, ?it/s]"
      ]
     },
     "metadata": {},
     "output_type": "display_data"
    }
   ],
   "source": [
    "evaluations_gpt4o = []\n",
    "\n",
    "for record in tqdm(sample):\n",
    "    question = record['question']\n",
    "    answer_llm = rag(question, retriever_fn=minsearch_improved, model='gpt-4o') \n",
    "\n",
    "    prompt = prompt_template_evaluation.format(\n",
    "        question=question,\n",
    "        answer_llm=answer_llm\n",
    "    )\n",
    "\n",
    "    evaluation = llm(prompt)\n",
    "    evaluation = json.loads(evaluation)\n",
    "    \n",
    "    evaluations_gpt4o.append((record, answer_llm, evaluation))"
   ]
  },
  {
   "cell_type": "code",
   "execution_count": 96,
   "id": "99965e93-dd0f-4774-8c81-9c24c5abcccd",
   "metadata": {},
   "outputs": [],
   "source": [
    "df_eval = pd.DataFrame(evaluations_gpt4o, columns=['record', 'answer', 'evaluation'])\n",
    "\n",
    "df_eval['id'] = df_eval.record.apply(lambda d: d['id'])\n",
    "df_eval['question'] = df_eval.record.apply(lambda d: d['question'])\n",
    "\n",
    "df_eval['relevance'] = df_eval.evaluation.apply(lambda d: d['Relevance'])\n",
    "df_eval['explanation'] = df_eval.evaluation.apply(lambda d: d['Explanation'])\n",
    "\n",
    "del df_eval['record']\n",
    "del df_eval['evaluation']"
   ]
  },
  {
   "cell_type": "code",
   "execution_count": 97,
   "id": "e78c5884-2dc7-4b9e-a7e2-56168cdbc03e",
   "metadata": {},
   "outputs": [
    {
     "data": {
      "text/plain": [
       "relevance\n",
       "RELEVANT           193\n",
       "PARTLY_RELEVANT      6\n",
       "NON_RELEVANT         1\n",
       "Name: count, dtype: int64"
      ]
     },
     "execution_count": 97,
     "metadata": {},
     "output_type": "execute_result"
    }
   ],
   "source": [
    "df_eval.relevance.value_counts()"
   ]
  },
  {
   "cell_type": "code",
   "execution_count": 98,
   "id": "e82028e2-7f15-4914-abfd-1927e433ccc3",
   "metadata": {},
   "outputs": [
    {
     "data": {
      "text/plain": [
       "relevance\n",
       "RELEVANT           0.965\n",
       "PARTLY_RELEVANT    0.030\n",
       "NON_RELEVANT       0.005\n",
       "Name: proportion, dtype: float64"
      ]
     },
     "execution_count": 98,
     "metadata": {},
     "output_type": "execute_result"
    }
   ],
   "source": [
    "df_eval.relevance.value_counts(normalize=True)"
   ]
  },
  {
   "cell_type": "code",
   "execution_count": 99,
   "id": "f1bb1f62-2729-4770-9d95-145e7c3070bb",
   "metadata": {},
   "outputs": [],
   "source": [
    "df_eval.to_csv('../data/rag-eval-gpt-4o.csv', index=False)"
   ]
  },
  {
   "cell_type": "code",
   "execution_count": 100,
   "id": "d2050c25-43df-4b80-85eb-c3bb0a3de745",
   "metadata": {},
   "outputs": [
    {
     "data": {
      "text/html": [
       "<div>\n",
       "<style scoped>\n",
       "    .dataframe tbody tr th:only-of-type {\n",
       "        vertical-align: middle;\n",
       "    }\n",
       "\n",
       "    .dataframe tbody tr th {\n",
       "        vertical-align: top;\n",
       "    }\n",
       "\n",
       "    .dataframe thead th {\n",
       "        text-align: right;\n",
       "    }\n",
       "</style>\n",
       "<table border=\"1\" class=\"dataframe\">\n",
       "  <thead>\n",
       "    <tr style=\"text-align: right;\">\n",
       "      <th></th>\n",
       "      <th>answer</th>\n",
       "      <th>id</th>\n",
       "      <th>question</th>\n",
       "      <th>relevance</th>\n",
       "      <th>explanation</th>\n",
       "    </tr>\n",
       "  </thead>\n",
       "  <tbody>\n",
       "    <tr>\n",
       "      <th>72</th>\n",
       "      <td>The time signature for the piece \"Boléro\" by M...</td>\n",
       "      <td>29</td>\n",
       "      <td>What is the time signature for the piece Boléro?</td>\n",
       "      <td>NON_RELEVANT</td>\n",
       "      <td>The time signature for Ravel's 'Boléro' is act...</td>\n",
       "    </tr>\n",
       "  </tbody>\n",
       "</table>\n",
       "</div>"
      ],
      "text/plain": [
       "                                               answer  id  \\\n",
       "72  The time signature for the piece \"Boléro\" by M...  29   \n",
       "\n",
       "                                            question     relevance  \\\n",
       "72  What is the time signature for the piece Boléro?  NON_RELEVANT   \n",
       "\n",
       "                                          explanation  \n",
       "72  The time signature for Ravel's 'Boléro' is act...  "
      ]
     },
     "execution_count": 100,
     "metadata": {},
     "output_type": "execute_result"
    }
   ],
   "source": [
    "df_eval[df_eval.relevance == 'NON_RELEVANT']"
   ]
  },
  {
   "cell_type": "code",
   "execution_count": null,
   "id": "dff86279-65a6-476e-949f-42a2f6ee4352",
   "metadata": {},
   "outputs": [],
   "source": []
  }
 ],
 "metadata": {
  "kernelspec": {
   "display_name": "Python 3 (ipykernel)",
   "language": "python",
   "name": "python3"
  },
  "language_info": {
   "codemirror_mode": {
    "name": "ipython",
    "version": 3
   },
   "file_extension": ".py",
   "mimetype": "text/x-python",
   "name": "python",
   "nbconvert_exporter": "python",
   "pygments_lexer": "ipython3",
   "version": "3.12.3"
  }
 },
 "nbformat": 4,
 "nbformat_minor": 5
}

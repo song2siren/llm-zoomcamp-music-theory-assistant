{
 "cells": [
  {
   "cell_type": "markdown",
   "id": "227806d8-486f-4758-b946-6d6a54965c3f",
   "metadata": {},
   "source": [
    "# RAG Test"
   ]
  },
  {
   "cell_type": "markdown",
   "id": "a8b67743-bf27-4018-bccd-476682b491e9",
   "metadata": {},
   "source": [
    "This notebook tests the RAG flow for the Music Theory Assistant, evaluates how well the search system can retrieve results and how well different LLMs can analyse the relevance of generated answers to given questions."
   ]
  },
  {
   "cell_type": "markdown",
   "id": "766254c7-aab1-47c9-b0bc-0c6ef1d19969",
   "metadata": {},
   "source": [
    "## Retrieval Flow"
   ]
  },
  {
   "cell_type": "markdown",
   "id": "48c308f9-ab05-4e3a-a2fc-06d6fa17d238",
   "metadata": {},
   "source": [
    "This section gets the music theory data from a local CSV file knowledge base containing a selection of songs from different musical genres. The retrieval flow is then tested using the following different methods:\n",
    "\n",
    "- minsearch (text search)\n",
    "- Qdrant (vector search)\n"
   ]
  },
  {
   "cell_type": "markdown",
   "id": "a0c21857-c8c2-48b8-8741-1bb87e1abc2d",
   "metadata": {},
   "source": [
    "### Get the data"
   ]
  },
  {
   "cell_type": "code",
   "execution_count": 58,
   "id": "5ad9b306-4d17-4eec-bd03-dddd4622fe17",
   "metadata": {},
   "outputs": [],
   "source": [
    "import pandas as pd"
   ]
  },
  {
   "cell_type": "code",
   "execution_count": 59,
   "id": "64da1b20-11a5-417b-a481-ac9e9a09941a",
   "metadata": {},
   "outputs": [],
   "source": [
    "csv = '../data/music-theory-dataset-100.csv'\n",
    "\n",
    "df = pd.read_csv(csv)\n",
    "df.columns = df.columns.str.lower().str.replace(' ', '_')"
   ]
  },
  {
   "cell_type": "code",
   "execution_count": 60,
   "id": "4e4bebbe-5fb2-4a35-9563-91b21f003f6e",
   "metadata": {},
   "outputs": [],
   "source": [
    "df.to_csv(csv, index=False)"
   ]
  },
  {
   "cell_type": "code",
   "execution_count": 61,
   "id": "eef4d8ec-4e44-4af0-ab3a-2adb7eefa7a2",
   "metadata": {},
   "outputs": [
    {
     "name": "stdout",
     "output_type": "stream",
     "text": [
      "Shape (rows and columns): (100, 11)\n"
     ]
    },
    {
     "data": {
      "text/html": [
       "<div>\n",
       "<style scoped>\n",
       "    .dataframe tbody tr th:only-of-type {\n",
       "        vertical-align: middle;\n",
       "    }\n",
       "\n",
       "    .dataframe tbody tr th {\n",
       "        vertical-align: top;\n",
       "    }\n",
       "\n",
       "    .dataframe thead th {\n",
       "        text-align: right;\n",
       "    }\n",
       "</style>\n",
       "<table border=\"1\" class=\"dataframe\">\n",
       "  <thead>\n",
       "    <tr style=\"text-align: right;\">\n",
       "      <th></th>\n",
       "      <th>id</th>\n",
       "      <th>title</th>\n",
       "      <th>artist</th>\n",
       "      <th>genre</th>\n",
       "      <th>key</th>\n",
       "      <th>tempo_bpm</th>\n",
       "      <th>time_signature</th>\n",
       "      <th>chord_progression</th>\n",
       "      <th>roman_numerals</th>\n",
       "      <th>cadence</th>\n",
       "      <th>theory_notes</th>\n",
       "    </tr>\n",
       "  </thead>\n",
       "  <tbody>\n",
       "    <tr>\n",
       "      <th>0</th>\n",
       "      <td>0</td>\n",
       "      <td>Let It Be</td>\n",
       "      <td>The Beatles</td>\n",
       "      <td>Pop</td>\n",
       "      <td>C major</td>\n",
       "      <td>76</td>\n",
       "      <td>4/4</td>\n",
       "      <td>C – G – Am – F – C – G – F – C</td>\n",
       "      <td>I – V – vi – IV – I – V – IV – I</td>\n",
       "      <td>Authentic (IV–I) at end; Deceptive (V–vi) earlier</td>\n",
       "      <td>Diatonic progression; Deceptive cadence in ear...</td>\n",
       "    </tr>\n",
       "    <tr>\n",
       "      <th>1</th>\n",
       "      <td>1</td>\n",
       "      <td>Hotel California</td>\n",
       "      <td>Eagles</td>\n",
       "      <td>Rock</td>\n",
       "      <td>Bm</td>\n",
       "      <td>74</td>\n",
       "      <td>4/4</td>\n",
       "      <td>Bm – F# – A – E – G – D – Em – F#</td>\n",
       "      <td>i – V – VII – IV – VI – III – iv – V</td>\n",
       "      <td>Half cadence (iv–V)</td>\n",
       "      <td>Modal interchange; Natural VII chord; Aeolian ...</td>\n",
       "    </tr>\n",
       "  </tbody>\n",
       "</table>\n",
       "</div>"
      ],
      "text/plain": [
       "   id             title       artist genre      key  tempo_bpm time_signature  \\\n",
       "0   0         Let It Be  The Beatles   Pop  C major         76            4/4   \n",
       "1   1  Hotel California       Eagles  Rock       Bm         74            4/4   \n",
       "\n",
       "                   chord_progression                        roman_numerals  \\\n",
       "0     C – G – Am – F – C – G – F – C      I – V – vi – IV – I – V – IV – I   \n",
       "1  Bm – F# – A – E – G – D – Em – F#  i – V – VII – IV – VI – III – iv – V   \n",
       "\n",
       "                                             cadence  \\\n",
       "0  Authentic (IV–I) at end; Deceptive (V–vi) earlier   \n",
       "1                                Half cadence (iv–V)   \n",
       "\n",
       "                                        theory_notes  \n",
       "0  Diatonic progression; Deceptive cadence in ear...  \n",
       "1  Modal interchange; Natural VII chord; Aeolian ...  "
      ]
     },
     "execution_count": 61,
     "metadata": {},
     "output_type": "execute_result"
    }
   ],
   "source": [
    "print('Shape (rows and columns):', df.shape)\n",
    "df.head(2)"
   ]
  },
  {
   "cell_type": "markdown",
   "id": "0c38cac2-437e-4ebe-9da7-e0151b2bebdb",
   "metadata": {},
   "source": [
    "## Retrieval Flow - minsearch (text search)"
   ]
  },
  {
   "cell_type": "markdown",
   "id": "85671610-602e-4281-970d-f2eb469d91a9",
   "metadata": {},
   "source": [
    "This section gets the music theory data from a local CSV file knowledge base containing a selection of songs from different musical genres. It is then indexed in [minsearch](https://github.com/alexeygrigorev/minsearch) and queried. This same dataset is then passed to an [LLM (OpenAI - GPT-4o mini)](https://platform.openai.com/docs/models/gpt-4o-mini) and queried again to check the accuracy of the results."
   ]
  },
  {
   "cell_type": "markdown",
   "id": "f3b6ae00-d8f2-4d62-956d-1d97d679a279",
   "metadata": {},
   "source": [
    "### Install minsearch"
   ]
  },
  {
   "cell_type": "code",
   "execution_count": 62,
   "id": "3aa8ecfb-347b-4514-9995-db17172ad930",
   "metadata": {},
   "outputs": [],
   "source": [
    "import os\n",
    "\n",
    "if not os.path.exists(\"../notebooks/minsearch.py\"):\n",
    "    # Install the package\n",
    "    os.system(\"pip install minsearch\")\n",
    "    # Download the file\n",
    "    os.system(\"wget https://raw.githubusercontent.com/alexeygrigorev/minsearch/main/minsearch.py\")"
   ]
  },
  {
   "cell_type": "markdown",
   "id": "c958c1a1-a35f-4ac2-818f-481ee1d14827",
   "metadata": {},
   "source": [
    "### Index with minsearch"
   ]
  },
  {
   "cell_type": "code",
   "execution_count": 63,
   "id": "19f85eee-e75d-47e0-85b1-4ee25f3d3ca7",
   "metadata": {},
   "outputs": [],
   "source": [
    "import minsearch"
   ]
  },
  {
   "cell_type": "code",
   "execution_count": 64,
   "id": "d4c1c9ab-9125-4a32-875d-222709ddbf1c",
   "metadata": {},
   "outputs": [
    {
     "data": {
      "text/plain": [
       "Index(['id', 'title', 'artist', 'genre', 'key', 'tempo_bpm', 'time_signature',\n",
       "       'chord_progression', 'roman_numerals', 'cadence', 'theory_notes'],\n",
       "      dtype='object')"
      ]
     },
     "execution_count": 64,
     "metadata": {},
     "output_type": "execute_result"
    }
   ],
   "source": [
    "df.columns"
   ]
  },
  {
   "cell_type": "code",
   "execution_count": 65,
   "id": "1fbee000-eb55-46e3-8e60-7313be066fb2",
   "metadata": {},
   "outputs": [
    {
     "data": {
      "text/plain": [
       "{'id': 0,\n",
       " 'title': 'Let It Be',\n",
       " 'artist': 'The Beatles',\n",
       " 'genre': 'Pop',\n",
       " 'key': 'C major',\n",
       " 'tempo_bpm': '76',\n",
       " 'time_signature': '4/4',\n",
       " 'chord_progression': 'C – G – Am – F – C – G – F – C',\n",
       " 'roman_numerals': 'I – V – vi – IV – I – V – IV – I',\n",
       " 'cadence': 'Authentic (IV–I) at end; Deceptive (V–vi) earlier',\n",
       " 'theory_notes': 'Diatonic progression; Deceptive cadence in early phrase; Clear tonic return'}"
      ]
     },
     "execution_count": 65,
     "metadata": {},
     "output_type": "execute_result"
    }
   ],
   "source": [
    "# Covert numeric fields to string to prevent parsing errors in minsearch\n",
    "df['tempo_bpm'] = df['tempo_bpm'].apply(lambda i: str(i))\n",
    "\n",
    "documents = df.to_dict(orient='records')\n",
    "documents[0]"
   ]
  },
  {
   "cell_type": "code",
   "execution_count": 66,
   "id": "a2250d54-5761-4389-bf8e-0f244cbfca07",
   "metadata": {},
   "outputs": [],
   "source": [
    "index = minsearch.Index(\n",
    "    text_fields=['title', 'artist', 'genre', 'key', 'tempo_bpm', 'time_signature',\n",
    "       'chord_progression', 'roman_numerals', 'cadence', 'theory_notes'],\n",
    "    keyword_fields=[]\n",
    ")"
   ]
  },
  {
   "cell_type": "code",
   "execution_count": 67,
   "id": "1f55deca-1745-4f22-a134-628f247da63f",
   "metadata": {},
   "outputs": [
    {
     "data": {
      "text/plain": [
       "<minsearch.Index at 0x7d0d362e6540>"
      ]
     },
     "execution_count": 67,
     "metadata": {},
     "output_type": "execute_result"
    }
   ],
   "source": [
    "index.fit(documents)"
   ]
  },
  {
   "cell_type": "code",
   "execution_count": 68,
   "id": "2be6f096-1eb5-4d52-a41c-9442f2a04de7",
   "metadata": {},
   "outputs": [],
   "source": [
    "query = \"Give me Folk titles\""
   ]
  },
  {
   "cell_type": "code",
   "execution_count": 69,
   "id": "41d04bb7-b808-464d-af1a-9d31213005af",
   "metadata": {},
   "outputs": [
    {
     "data": {
      "text/plain": [
       "[{'id': 5,\n",
       "  'title': 'House of the Rising Sun',\n",
       "  'artist': 'The Animals',\n",
       "  'genre': 'Folk',\n",
       "  'key': 'Am',\n",
       "  'tempo_bpm': '76',\n",
       "  'time_signature': '6/8',\n",
       "  'chord_progression': 'Am – C – D – F – Am – E – Am',\n",
       "  'roman_numerals': 'i – III – IV – VI – i – V – i',\n",
       "  'cadence': 'Authentic (V–i)',\n",
       "  'theory_notes': 'Aeolian mode; 6/8 compound meter; Traditional folk harmony'},\n",
       " {'id': 17,\n",
       "  'title': \"The Times They Are A-Changin'\",\n",
       "  'artist': 'Bob Dylan',\n",
       "  'genre': 'Folk',\n",
       "  'key': 'G major',\n",
       "  'tempo_bpm': '76',\n",
       "  'time_signature': '3/4',\n",
       "  'chord_progression': 'G – Em – C – G – Am – D – G – Em – D – G',\n",
       "  'roman_numerals': 'I – vi – IV – I – ii – V – I – vi – V – I',\n",
       "  'cadence': 'Authentic (V–I)',\n",
       "  'theory_notes': 'Folk protest song; Simple diatonic harmony; Waltz meter'},\n",
       " {'id': 82,\n",
       "  'title': 'Hallelujah',\n",
       "  'artist': 'Leonard Cohen',\n",
       "  'genre': 'Folk',\n",
       "  'key': 'C major',\n",
       "  'tempo_bpm': '72',\n",
       "  'time_signature': '6/8',\n",
       "  'chord_progression': 'C – Am – F – G – Em – Am – F – G – C',\n",
       "  'roman_numerals': 'I – vi – IV – V – iii – vi – IV – V – I',\n",
       "  'cadence': 'Authentic (V–I)',\n",
       "  'theory_notes': 'Spiritual folk; Multiple cover versions; Complex emotional content'},\n",
       " {'id': 19,\n",
       "  'title': \"California Dreamin'\",\n",
       "  'artist': 'The Mamas & The Papas',\n",
       "  'genre': 'Folk',\n",
       "  'key': 'Am',\n",
       "  'tempo_bpm': '120',\n",
       "  'time_signature': '4/4',\n",
       "  'chord_progression': 'Am – G – F – G – E – Am – F – G – Am',\n",
       "  'roman_numerals': 'i – VII – VI – VII – V – i – VI – VII – i',\n",
       "  'cadence': 'Authentic (VII–i)',\n",
       "  'theory_notes': 'Modal folk-rock; Natural VII prominent; Relative major relationship'},\n",
       " {'id': 96,\n",
       "  'title': 'Mr. Tambourine Man',\n",
       "  'artist': 'Bob Dylan',\n",
       "  'genre': 'Folk',\n",
       "  'key': 'D major',\n",
       "  'tempo_bpm': '110',\n",
       "  'time_signature': '4/4',\n",
       "  'chord_progression': 'D – G – A – D – Bm – G – A – D',\n",
       "  'roman_numerals': 'I – IV – V – I – vi – IV – V – I',\n",
       "  'cadence': 'Authentic (V–I)',\n",
       "  'theory_notes': 'Folk-rock blend; jangle rhythm; consistent authentic cadences'}]"
      ]
     },
     "execution_count": 69,
     "metadata": {},
     "output_type": "execute_result"
    }
   ],
   "source": [
    "index.search(query, num_results=5)"
   ]
  },
  {
   "cell_type": "markdown",
   "id": "b122dfa1-a101-4ac0-b315-be40444f9ef5",
   "metadata": {},
   "source": [
    "### minsearch to LLM"
   ]
  },
  {
   "cell_type": "code",
   "execution_count": 70,
   "id": "372dca80-45b8-4b9a-81c7-09ab41a1cca1",
   "metadata": {},
   "outputs": [],
   "source": [
    "from openai import OpenAI\n",
    "\n",
    "client = OpenAI()"
   ]
  },
  {
   "cell_type": "code",
   "execution_count": 71,
   "id": "d55803b1-2497-4e7b-aed8-a193b99c140d",
   "metadata": {},
   "outputs": [],
   "source": [
    "def search(query):\n",
    "    boost = {}\n",
    "\n",
    "    results = index.search(\n",
    "        query=query,\n",
    "        filter_dict={},\n",
    "        boost_dict=boost,\n",
    "        num_results=10\n",
    "    )\n",
    "\n",
    "    return results"
   ]
  },
  {
   "cell_type": "code",
   "execution_count": 72,
   "id": "46894198-1ceb-4dbb-be2e-7782e815b97d",
   "metadata": {},
   "outputs": [],
   "source": [
    "prompt_template = \"\"\"\n",
    "You're a music teacher. Answer the QUESTION based on the CONTEXT from our music theory database.\n",
    "Use only the facts from the CONTEXT when answering the QUESTION.\n",
    "\n",
    "QUESTION: {question}\n",
    "\n",
    "CONTEXT:\n",
    "{context}\n",
    "\"\"\".strip()\n",
    "\n",
    "entry_template = \"\"\"\n",
    "title: {title}\n",
    "artist: {artist}\n",
    "genre: {genre}\n",
    "key: {key}\n",
    "tempo_bpm: {tempo_bpm}\n",
    "time_signature: {time_signature}\n",
    "chord_progression: {chord_progression}\n",
    "roman_numerals: {roman_numerals}\n",
    "cadence: {cadence}\n",
    "theory_notes: {theory_notes}\n",
    "\"\"\".strip()"
   ]
  },
  {
   "cell_type": "code",
   "execution_count": 73,
   "id": "8dfec9f5-29f6-4c8d-b681-87ca502a5cf0",
   "metadata": {},
   "outputs": [],
   "source": [
    "def build_prompt(query, search_results):\n",
    "    context = \"\"\n",
    "    \n",
    "    for doc in search_results:\n",
    "        context = context + entry_template.format(**doc) + \"\\n\\n\"\n",
    "\n",
    "    prompt = prompt_template.format(question=query, context=context).strip()\n",
    "    return prompt"
   ]
  },
  {
   "cell_type": "code",
   "execution_count": 74,
   "id": "0149e0a1-5036-4eea-825c-359d5a94b1c3",
   "metadata": {},
   "outputs": [],
   "source": [
    "def llm(prompt, model='gpt-4o-mini'):\n",
    "    response = client.chat.completions.create(\n",
    "        model=model,\n",
    "        messages=[{\"role\": \"user\", \"content\": prompt}]\n",
    "    )\n",
    "    \n",
    "    return response.choices[0].message.content"
   ]
  },
  {
   "cell_type": "code",
   "execution_count": 75,
   "id": "afa21b6f-5712-498d-88c8-96043702a158",
   "metadata": {},
   "outputs": [],
   "source": [
    "def rag(query, model='gpt-4o-mini'):\n",
    "    search_results = search(query)\n",
    "    prompt = build_prompt(query, search_results)\n",
    "    answer = llm(prompt, model=model)\n",
    "    return answer"
   ]
  },
  {
   "cell_type": "code",
   "execution_count": 76,
   "id": "4f6a15d6-6370-4a4b-afd3-2664c1625ea2",
   "metadata": {},
   "outputs": [
    {
     "name": "stdout",
     "output_type": "stream",
     "text": [
      "Yes, \"Mr. Tambourine Man\" is a folk song. It is classified under the folk genre, and it features characteristics typical of folk music, such as storytelling and an acoustic sound, especially as performed by Bob Dylan. \n",
      "\n",
      "The song is in the key of D major and has a tempo of 110 BPM in a 4/4 time signature. Its chord progression follows a sequence of D – G – A – D – Bm – G – A – D, represented in Roman numerals as I – IV – V – I – vi – IV – V – I. The cadence used in \"Mr. Tambourine Man\" is an authentic cadence, specifically from the V (five) chord to the I (tonic) chord, which is commonly used in folk music to establish a sense of resolution.\n",
      "\n",
      "A cadence refers to a musical sequence that brings a phrase or a piece of music to a close. An authentic cadence, like the one found in \"Mr. Tambourine Man,\" is particularly strong and definitive, often leading the listener back to the tonic chord, providing a feeling of rest and completion within the harmonic structure.\n"
     ]
    }
   ],
   "source": [
    "question = 'Is Mr Tambourine Man a folk song and if so, explain why, including information about its key and cadence, and explain what cadence means?'\n",
    "answer = rag(question)\n",
    "print(answer)"
   ]
  },
  {
   "cell_type": "code",
   "execution_count": 77,
   "id": "efc22123-93ee-4c66-a6bf-79d20c2e6440",
   "metadata": {},
   "outputs": [
    {
     "name": "stdout",
     "output_type": "stream",
     "text": [
      "The only song by The Beatles listed in the context is:\n",
      "\n",
      "1. **Let It Be**\n",
      "   - Genre: Pop\n",
      "   - Key: C major\n",
      "   - Tempo: 76 BPM\n",
      "   - Time Signature: 4/4\n",
      "\n",
      "2. **Something**\n",
      "   - Genre: Pop\n",
      "   - Key: C major\n",
      "   - Tempo: 66 BPM\n",
      "   - Time Signature: 4/4\n"
     ]
    }
   ],
   "source": [
    "question = 'Could you print a list of songs by The Beatles?'\n",
    "answer = rag(question)\n",
    "print(answer)"
   ]
  },
  {
   "cell_type": "code",
   "execution_count": 78,
   "id": "9baec181-5b31-43f1-8877-96076d73667e",
   "metadata": {},
   "outputs": [
    {
     "name": "stdout",
     "output_type": "stream",
     "text": [
      "Here is a list of songs in the key of C Major:\n",
      "\n",
      "1. \"Let It Be\" by The Beatles\n",
      "2. \"My Girl\" by The Temptations\n",
      "3. \"Brown Sugar\" by The Rolling Stones\n",
      "4. \"Great Balls of Fire\" by Jerry Lee Lewis\n",
      "5. \"Blue Moon\" by Richard Rodgers\n",
      "6. \"Dust in the Wind\" by Kansas\n"
     ]
    }
   ],
   "source": [
    "question = 'Could you print a list of songs in the key of C Major?'\n",
    "answer = rag(question)\n",
    "print(answer)"
   ]
  },
  {
   "cell_type": "markdown",
   "id": "9a4e0cbf-9236-4846-b4be-0507f2a11d48",
   "metadata": {},
   "source": [
    "## Retrieval Flow - Qdrant (vector search)"
   ]
  },
  {
   "cell_type": "markdown",
   "id": "6645b5c5-2361-400d-821e-614f1e94a352",
   "metadata": {},
   "source": [
    "This section gets the music theory data from a local CSV file knowledge base containing a selection of songs from different musical genres. It is then indexed in [Qdrant](https://qdrant.tech/) and queried. This same dataset is then passed to an [LLM (OpenAI - GPT-4o mini)](https://platform.openai.com/docs/models/gpt-4o-mini) and queried again to check the accuracy of the results."
   ]
  },
  {
   "cell_type": "markdown",
   "id": "5d081f5e-84a9-43d1-a6cf-12b461ae766f",
   "metadata": {},
   "source": [
    "Install qdrant and fastembed (if not already installed during project setup):\n",
    "\n",
    "```bash\n",
    "pip install -q \"qdrant-client[fastembed]>=1.14.2\"\n",
    "```\n",
    "\n",
    "Run in Docker:\n",
    "\n",
    "```bash\n",
    "docker pull qdrant/qdrant\n",
    "\n",
    "docker run -p 6333:6333 -p 6334:6334 \\\n",
    "   -v \"$(pwd)/qdrant_storage:/qdrant/storage:z\" \\\n",
    "   qdrant/qdrant\n",
    "```"
   ]
  },
  {
   "cell_type": "code",
   "execution_count": 79,
   "id": "48ac7e8b-059c-484f-a91f-4e05a6cc9d40",
   "metadata": {},
   "outputs": [],
   "source": [
    "from qdrant_client import QdrantClient, models"
   ]
  },
  {
   "cell_type": "code",
   "execution_count": 80,
   "id": "b83a01fe-257b-4dce-9dae-fddb42bee21a",
   "metadata": {},
   "outputs": [],
   "source": [
    "# Qdrant setup\n",
    "qd_client = QdrantClient(\"http://localhost:6333\")\n",
    "collection_name = \"zoomcamp-music-theory-assistant\""
   ]
  },
  {
   "cell_type": "code",
   "execution_count": 81,
   "id": "a0d5d85b-a975-4681-b8d7-41e560297647",
   "metadata": {},
   "outputs": [],
   "source": [
    "EMBEDDING_MODEL = \"jinaai/jina-embeddings-v2-small-en\"\n",
    "EMBEDDING_DIMENSIONALITY = 512"
   ]
  },
  {
   "cell_type": "code",
   "execution_count": 82,
   "id": "1ada90c9-e24e-4115-a843-684b94c0e071",
   "metadata": {},
   "outputs": [
    {
     "data": {
      "text/plain": [
       "True"
      ]
     },
     "execution_count": 82,
     "metadata": {},
     "output_type": "execute_result"
    }
   ],
   "source": [
    "# delete the collection if it already exists\n",
    "qd_client.delete_collection(collection_name=collection_name)"
   ]
  },
  {
   "cell_type": "code",
   "execution_count": 83,
   "id": "ed494db1-8310-4248-9928-15b60ecf5dd7",
   "metadata": {},
   "outputs": [
    {
     "data": {
      "text/plain": [
       "True"
      ]
     },
     "execution_count": 83,
     "metadata": {},
     "output_type": "execute_result"
    }
   ],
   "source": [
    "qd_client.create_collection(\n",
    "    collection_name=collection_name,\n",
    "    vectors_config=models.VectorParams(\n",
    "        size=EMBEDDING_DIMENSIONALITY,\n",
    "        distance=models.Distance.COSINE\n",
    "    )\n",
    ")"
   ]
  },
  {
   "cell_type": "code",
   "execution_count": 84,
   "id": "85088359-81b4-4f89-99d6-fcb6b2c2d855",
   "metadata": {},
   "outputs": [],
   "source": [
    "# (Optional) Add payload indexes for filtering later, e.g., by genre or cadence\n",
    "# qd_client.create_payload_index(collection_name=COLLECTION, field_name=\"genre\", field_schema=\"keyword\")\n",
    "# qd_client.create_payload_index(collection_name=COLLECTION, field_name=\"cadence\", field_schema=\"keyword\")"
   ]
  },
  {
   "cell_type": "code",
   "execution_count": 85,
   "id": "58612c33-34f1-49ae-b67b-49d8b50ebe06",
   "metadata": {},
   "outputs": [],
   "source": [
    "# Prepare points\n",
    "points = []\n",
    "for doc in documents:\n",
    "    # Build a single searchable text string from the document fields\n",
    "    text = \" | \".join([\n",
    "        str(doc[\"title\"]),\n",
    "        str(doc[\"artist\"]),\n",
    "        f\"Genre: {doc['genre']}\",\n",
    "        f\"Key: {doc['key']}\",\n",
    "        f\"Tempo: {doc['tempo_bpm']} BPM\",\n",
    "        f\"Time: {doc['time_signature']}\",\n",
    "        f\"Chords: {doc['chord_progression']}\",\n",
    "        f\"Roman: {doc['roman_numerals']}\",\n",
    "        f\"Cadence: {doc['cadence']}\",\n",
    "        f\"Notes: {doc['theory_notes']}\",\n",
    "    ])\n",
    "\n",
    "    vector = models.Document(text=text, model=EMBEDDING_MODEL)  # Qdrant client auto-embeds this\n",
    "    point = models.PointStruct(id=int(doc[\"id\"]), vector=vector, payload=doc)\n",
    "    points.append(point)"
   ]
  },
  {
   "cell_type": "code",
   "execution_count": 86,
   "id": "2aed28ce-cf11-4eca-bc59-b04299b781bb",
   "metadata": {},
   "outputs": [
    {
     "data": {
      "text/plain": [
       "UpdateResult(operation_id=0, status=<UpdateStatus.COMPLETED: 'completed'>)"
      ]
     },
     "execution_count": 86,
     "metadata": {},
     "output_type": "execute_result"
    }
   ],
   "source": [
    "qd_client.upsert(\n",
    "    collection_name=collection_name,\n",
    "    points=points\n",
    ")"
   ]
  },
  {
   "cell_type": "code",
   "execution_count": 87,
   "id": "f7eb4db1-d6e8-48f9-8c82-9d665dd7e331",
   "metadata": {},
   "outputs": [],
   "source": [
    "def vector_search(query):\n",
    "\n",
    "    query_points = qd_client.query_points(\n",
    "        collection_name=collection_name,\n",
    "        query=models.Document(\n",
    "            text=query,\n",
    "            model=EMBEDDING_MODEL \n",
    "        ),\n",
    "        # Optionally add a filter here if you want to constrain results (e.g., only Pop)\n",
    "        #query_filter=models.Filter( \n",
    "        #    must=[\n",
    "        #        models.FieldCondition(\n",
    "        #            key=\"genre\",\n",
    "        #            match=models.MatchValue(value=\"Pop\")\n",
    "        #        )\n",
    "        #    ]\n",
    "        #),\n",
    "        limit=10,\n",
    "        with_payload=True\n",
    "    )\n",
    "    \n",
    "    results = []\n",
    "    \n",
    "    for point in query_points.points:\n",
    "        results.append(point.payload)\n",
    "    \n",
    "    return results"
   ]
  },
  {
   "cell_type": "code",
   "execution_count": 88,
   "id": "c8112bcb-b993-403e-9c28-0cb05dfef36a",
   "metadata": {},
   "outputs": [],
   "source": [
    "def rag(query, model='gpt-4o-mini'):\n",
    "    search_results = vector_search(query)\n",
    "    prompt = build_prompt(query, search_results)\n",
    "    answer = llm(prompt, model=model)\n",
    "    return answer"
   ]
  },
  {
   "cell_type": "code",
   "execution_count": 89,
   "id": "dd3af8d9-d978-4101-bcbf-1f4d7485740f",
   "metadata": {},
   "outputs": [
    {
     "name": "stdout",
     "output_type": "stream",
     "text": [
      "Yes, \"Mr. Tambourine Man\" is indeed a folk song. It falls under the folk genre, characterized by its lyrical storytelling and simple harmonic structure typical of folk music. \n",
      "\n",
      "The song is composed in the key of D major and features a chord progression of D – G – A – D – Bm – G – A – D. The Roman numerals for this progression are I – IV – V – I – vi – IV – V – I. \n",
      "\n",
      "In terms of cadence, \"Mr. Tambourine Man\" employs an authentic cadence, specifically the V–I cadence. An authentic cadence is a musical conclusion where the dominant (V) chord resolves to the tonic (I) chord, creating a sense of closure and resolution in the music. This is a common feature in many folk songs, helping to establish a strong tonal center and finish to phrases throughout the piece. Thus, the combination of its folk genre, key, chord progression, and cadence all reinforce its classification as a folk song.\n"
     ]
    }
   ],
   "source": [
    "question = 'Is Mr Tambourine Man a folk song and if so, explain why, including information about its key and cadence, and explain what cadence means?'\n",
    "answer = rag(question)\n",
    "print(answer)"
   ]
  },
  {
   "cell_type": "markdown",
   "id": "00443ffe-79cd-47f4-b0c7-ac3dc040cd3d",
   "metadata": {},
   "source": [
    "## Retrieval Evaluation"
   ]
  },
  {
   "cell_type": "markdown",
   "id": "b6404527-0bb0-4d2a-9196-7b6d3bf1ec44",
   "metadata": {},
   "source": [
    "This section is measuring how well the search system (using minsearch and Qdrant) can retrieve the correct song record for a set of ground-truth questions. Here’s what it does:\n",
    "\n",
    "1. Loads ground-truth data: Reads a CSV file (ground-truth-retrieval.csv) containing questions and the correct song id for each question.\n",
    "2. Defines evaluation metrics:\n",
    "    - **Hit Rate**: The fraction of questions for which the correct song appears anywhere in the top search results.\n",
    "    - **MRR (Mean Reciprocal Rank)**: Measures how high the correct song appears in the ranked results (higher is better).\n",
    "3. Runs the search: For each question, it uses minsearch to retrieve the top results.\n",
    "4. Checks relevance: Compares the id of each result to the ground-truth id to see if the correct song was retrieved and at what rank.\n",
    "5. Calculates metrics: Aggregates the results to compute overall hit rate and MRR, giving you a quantitative measure of your retrieval system’s accuracy."
   ]
  },
  {
   "cell_type": "code",
   "execution_count": 90,
   "id": "f861e7b9-65f1-43d4-ae69-527ec286ef25",
   "metadata": {},
   "outputs": [],
   "source": [
    "# Read the local ground truth dataset\n",
    "df_question = pd.read_csv('../data/ground-truth-retrieval.csv')"
   ]
  },
  {
   "cell_type": "code",
   "execution_count": 91,
   "id": "bd500bd3-9a63-4f39-afea-f3b8f57446b9",
   "metadata": {},
   "outputs": [
    {
     "data": {
      "text/html": [
       "<div>\n",
       "<style scoped>\n",
       "    .dataframe tbody tr th:only-of-type {\n",
       "        vertical-align: middle;\n",
       "    }\n",
       "\n",
       "    .dataframe tbody tr th {\n",
       "        vertical-align: top;\n",
       "    }\n",
       "\n",
       "    .dataframe thead th {\n",
       "        text-align: right;\n",
       "    }\n",
       "</style>\n",
       "<table border=\"1\" class=\"dataframe\">\n",
       "  <thead>\n",
       "    <tr style=\"text-align: right;\">\n",
       "      <th></th>\n",
       "      <th>id</th>\n",
       "      <th>question</th>\n",
       "    </tr>\n",
       "  </thead>\n",
       "  <tbody>\n",
       "    <tr>\n",
       "      <th>0</th>\n",
       "      <td>0</td>\n",
       "      <td>What is the key of the song 'Let It Be' by The...</td>\n",
       "    </tr>\n",
       "    <tr>\n",
       "      <th>1</th>\n",
       "      <td>0</td>\n",
       "      <td>Can you provide the chord progression for 'Let...</td>\n",
       "    </tr>\n",
       "    <tr>\n",
       "      <th>2</th>\n",
       "      <td>0</td>\n",
       "      <td>What is the tempo in beats per minute for 'Let...</td>\n",
       "    </tr>\n",
       "    <tr>\n",
       "      <th>3</th>\n",
       "      <td>0</td>\n",
       "      <td>Which cadence is used at the end of 'Let It Be'?</td>\n",
       "    </tr>\n",
       "    <tr>\n",
       "      <th>4</th>\n",
       "      <td>0</td>\n",
       "      <td>What is the time signature of 'Let It Be'?</td>\n",
       "    </tr>\n",
       "  </tbody>\n",
       "</table>\n",
       "</div>"
      ],
      "text/plain": [
       "   id                                           question\n",
       "0   0  What is the key of the song 'Let It Be' by The...\n",
       "1   0  Can you provide the chord progression for 'Let...\n",
       "2   0  What is the tempo in beats per minute for 'Let...\n",
       "3   0   Which cadence is used at the end of 'Let It Be'?\n",
       "4   0         What is the time signature of 'Let It Be'?"
      ]
     },
     "execution_count": 91,
     "metadata": {},
     "output_type": "execute_result"
    }
   ],
   "source": [
    "df_question.head()"
   ]
  },
  {
   "cell_type": "code",
   "execution_count": 92,
   "id": "c95c7ba3-4b56-47ab-8c21-711ddda77c90",
   "metadata": {},
   "outputs": [],
   "source": [
    "ground_truth = df_question.to_dict(orient='records')"
   ]
  },
  {
   "cell_type": "code",
   "execution_count": 93,
   "id": "3fea8888-eca9-45f4-8fc1-ea8ca938eb23",
   "metadata": {},
   "outputs": [
    {
     "data": {
      "text/plain": [
       "{'id': 0,\n",
       " 'question': \"What is the key of the song 'Let It Be' by The Beatles?\"}"
      ]
     },
     "execution_count": 93,
     "metadata": {},
     "output_type": "execute_result"
    }
   ],
   "source": [
    "ground_truth[0]"
   ]
  },
  {
   "cell_type": "code",
   "execution_count": 100,
   "id": "ea5933f2-cc44-41fa-9450-e2d219b3991b",
   "metadata": {},
   "outputs": [],
   "source": [
    "def hit_rate(relevance_total):\n",
    "    cnt = 0\n",
    "\n",
    "    for line in relevance_total:\n",
    "        if True in line:\n",
    "            cnt = cnt + 1\n",
    "\n",
    "    return cnt / len(relevance_total)\n",
    "\n",
    "def mrr(relevance_total):\n",
    "    total_score = 0.0\n",
    "\n",
    "    for line in relevance_total:\n",
    "        for rank in range(len(line)):\n",
    "            if line[rank] == True:\n",
    "                total_score = total_score + 1 / (rank + 1)\n",
    "\n",
    "    return total_score / len(relevance_total)"
   ]
  },
  {
   "cell_type": "code",
   "execution_count": 101,
   "id": "33152e47-668c-4a26-b1f8-117201e95978",
   "metadata": {},
   "outputs": [],
   "source": [
    "def evaluate(ground_truth, search_function):\n",
    "    relevance_total = []\n",
    "\n",
    "    for q in tqdm(ground_truth):\n",
    "        doc_id = q['id']\n",
    "        results = search_function(q)\n",
    "        relevance = [d['id'] == doc_id for d in results]\n",
    "        relevance_total.append(relevance)\n",
    "\n",
    "    return {\n",
    "        'hit_rate': hit_rate(relevance_total),\n",
    "        'mrr': mrr(relevance_total),\n",
    "    }"
   ]
  },
  {
   "cell_type": "markdown",
   "id": "fb891e29-6319-4cbd-8d6e-70720aca8f0c",
   "metadata": {},
   "source": [
    "## Retrieval Evaluation - minsearch (text search)"
   ]
  },
  {
   "cell_type": "code",
   "execution_count": 103,
   "id": "6a83c613-8723-4dc7-93fa-e634b9d36b55",
   "metadata": {},
   "outputs": [],
   "source": [
    "def minsearch_search(query):\n",
    "    boost = {}\n",
    "\n",
    "    results = index.search(\n",
    "        query=query,\n",
    "        filter_dict={},\n",
    "        boost_dict=boost,\n",
    "        num_results=10\n",
    "    )\n",
    "\n",
    "    return results"
   ]
  },
  {
   "cell_type": "code",
   "execution_count": 104,
   "id": "ce3a4688-e99e-4254-9471-e67422dd9113",
   "metadata": {},
   "outputs": [],
   "source": [
    "from tqdm.auto import tqdm"
   ]
  },
  {
   "cell_type": "code",
   "execution_count": 105,
   "id": "0b7e88e9-ec05-4b51-b08c-699f4d243027",
   "metadata": {},
   "outputs": [
    {
     "data": {
      "application/vnd.jupyter.widget-view+json": {
       "model_id": "90d367593bd04edd99f0649ae0812ac5",
       "version_major": 2,
       "version_minor": 0
      },
      "text/plain": [
       "  0%|          | 0/500 [00:00<?, ?it/s]"
      ]
     },
     "metadata": {},
     "output_type": "display_data"
    },
    {
     "data": {
      "text/plain": [
       "{'hit_rate': 0.914, 'mrr': 0.6267063492063489}"
      ]
     },
     "execution_count": 105,
     "metadata": {},
     "output_type": "execute_result"
    }
   ],
   "source": [
    "evaluate(ground_truth, lambda q: minsearch_search(q['question']))"
   ]
  },
  {
   "cell_type": "markdown",
   "id": "0b640569-488a-43b2-b30b-9fc491e844d4",
   "metadata": {},
   "source": [
    "## Retrieval Evaluation - Qdrant (vector search)"
   ]
  },
  {
   "cell_type": "code",
   "execution_count": 106,
   "id": "044f1104-d2dc-4439-92ff-858557fbac00",
   "metadata": {},
   "outputs": [
    {
     "data": {
      "application/vnd.jupyter.widget-view+json": {
       "model_id": "379e48fd0358462897df94b3aaefb8d6",
       "version_major": 2,
       "version_minor": 0
      },
      "text/plain": [
       "  0%|          | 0/500 [00:00<?, ?it/s]"
      ]
     },
     "metadata": {},
     "output_type": "display_data"
    },
    {
     "data": {
      "text/plain": [
       "{'hit_rate': 0.914, 'mrr': 0.8712936507936508}"
      ]
     },
     "execution_count": 106,
     "metadata": {},
     "output_type": "execute_result"
    }
   ],
   "source": [
    "evaluate(ground_truth, lambda q: vector_search(q['question']))"
   ]
  },
  {
   "cell_type": "code",
   "execution_count": null,
   "id": "857b8404-37ec-4b10-8394-4dedd7117989",
   "metadata": {},
   "outputs": [],
   "source": []
  }
 ],
 "metadata": {
  "kernelspec": {
   "display_name": "Python 3 (ipykernel)",
   "language": "python",
   "name": "python3"
  },
  "language_info": {
   "codemirror_mode": {
    "name": "ipython",
    "version": 3
   },
   "file_extension": ".py",
   "mimetype": "text/x-python",
   "name": "python",
   "nbconvert_exporter": "python",
   "pygments_lexer": "ipython3",
   "version": "3.12.1"
  }
 },
 "nbformat": 4,
 "nbformat_minor": 5
}

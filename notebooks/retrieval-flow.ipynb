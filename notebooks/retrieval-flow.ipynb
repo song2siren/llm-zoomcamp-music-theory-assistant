{
 "cells": [
  {
   "cell_type": "markdown",
   "id": "766254c7-aab1-47c9-b0bc-0c6ef1d19969",
   "metadata": {},
   "source": [
    "## Retrieval Flow"
   ]
  },
  {
   "cell_type": "markdown",
   "id": "48c308f9-ab05-4e3a-a2fc-06d6fa17d238",
   "metadata": {},
   "source": [
    "This notebook gets the music theory data from a local CSV file knowledge base containing a selection of songs from different musical genres. It is then indexed in [minsearch](https://github.com/alexeygrigorev/minsearch) and queried. This same dataset is then passed to an [LLM (OpenAI - GPT-4o mini)](https://platform.openai.com/docs/models/gpt-4o-mini) and queried again to check the accuracy of the results."
   ]
  },
  {
   "cell_type": "markdown",
   "id": "f3b6ae00-d8f2-4d62-956d-1d97d679a279",
   "metadata": {},
   "source": [
    "### Install minsearch"
   ]
  },
  {
   "cell_type": "code",
   "execution_count": null,
   "id": "afefa7c8-6694-4ade-889f-8f3985ce8cfb",
   "metadata": {},
   "outputs": [],
   "source": [
    "!pip install minsearch"
   ]
  },
  {
   "cell_type": "code",
   "execution_count": null,
   "id": "3aa8ecfb-347b-4514-9995-db17172ad930",
   "metadata": {},
   "outputs": [],
   "source": [
    "!wget https://raw.githubusercontent.com/alexeygrigorev/minsearch/main/minsearch.py"
   ]
  },
  {
   "cell_type": "markdown",
   "id": "f5c5c3a0-af87-4356-83a8-b08663387590",
   "metadata": {},
   "source": [
    "### Get the data"
   ]
  },
  {
   "cell_type": "code",
   "execution_count": 5,
   "id": "ee2b14a0-c43d-45c8-a038-0c94f2763bf2",
   "metadata": {},
   "outputs": [],
   "source": [
    "import pandas as pd"
   ]
  },
  {
   "cell_type": "code",
   "execution_count": 17,
   "id": "4d3bf777-fe5b-4f26-b4dd-eb3f0f561a79",
   "metadata": {},
   "outputs": [],
   "source": [
    "df.columns = df.columns.str.lower().str.replace(' ', '_')"
   ]
  },
  {
   "cell_type": "code",
   "execution_count": 20,
   "id": "eccf94b7-a913-4fe5-a980-63d5c947b5e6",
   "metadata": {},
   "outputs": [],
   "source": [
    "df.to_csv('../data/music-theory-dataset-100.csv', index=False)"
   ]
  },
  {
   "cell_type": "code",
   "execution_count": 31,
   "id": "33890435-6630-4db4-85b8-06b35defdba2",
   "metadata": {},
   "outputs": [
    {
     "name": "stdout",
     "output_type": "stream",
     "text": [
      "Shape (rows and columns): (100, 10)\n"
     ]
    },
    {
     "data": {
      "text/html": [
       "<div>\n",
       "<style scoped>\n",
       "    .dataframe tbody tr th:only-of-type {\n",
       "        vertical-align: middle;\n",
       "    }\n",
       "\n",
       "    .dataframe tbody tr th {\n",
       "        vertical-align: top;\n",
       "    }\n",
       "\n",
       "    .dataframe thead th {\n",
       "        text-align: right;\n",
       "    }\n",
       "</style>\n",
       "<table border=\"1\" class=\"dataframe\">\n",
       "  <thead>\n",
       "    <tr style=\"text-align: right;\">\n",
       "      <th></th>\n",
       "      <th>title</th>\n",
       "      <th>artist</th>\n",
       "      <th>genre</th>\n",
       "      <th>key</th>\n",
       "      <th>tempo_bpm</th>\n",
       "      <th>time_signature</th>\n",
       "      <th>chord_progression</th>\n",
       "      <th>roman_numerals</th>\n",
       "      <th>cadence</th>\n",
       "      <th>theory_notes</th>\n",
       "    </tr>\n",
       "  </thead>\n",
       "  <tbody>\n",
       "    <tr>\n",
       "      <th>0</th>\n",
       "      <td>Let It Be</td>\n",
       "      <td>The Beatles</td>\n",
       "      <td>Pop</td>\n",
       "      <td>C major</td>\n",
       "      <td>76</td>\n",
       "      <td>4/4</td>\n",
       "      <td>C – G – Am – F – C – G – F – C</td>\n",
       "      <td>I – V – vi – IV – I – V – IV – I</td>\n",
       "      <td>Authentic (IV–I) at end; Deceptive (V–vi) earlier</td>\n",
       "      <td>Diatonic progression; Deceptive cadence in ear...</td>\n",
       "    </tr>\n",
       "    <tr>\n",
       "      <th>1</th>\n",
       "      <td>Hotel California</td>\n",
       "      <td>Eagles</td>\n",
       "      <td>Rock</td>\n",
       "      <td>Bm</td>\n",
       "      <td>74</td>\n",
       "      <td>4/4</td>\n",
       "      <td>Bm – F# – A – E – G – D – Em – F#</td>\n",
       "      <td>i – V – VII – IV – VI – III – iv – V</td>\n",
       "      <td>Half cadence (iv–V)</td>\n",
       "      <td>Modal interchange; Natural VII chord; Aeolian ...</td>\n",
       "    </tr>\n",
       "  </tbody>\n",
       "</table>\n",
       "</div>"
      ],
      "text/plain": [
       "              title       artist genre      key  tempo_bpm time_signature  \\\n",
       "0         Let It Be  The Beatles   Pop  C major         76            4/4   \n",
       "1  Hotel California       Eagles  Rock       Bm         74            4/4   \n",
       "\n",
       "                   chord_progression                        roman_numerals  \\\n",
       "0     C – G – Am – F – C – G – F – C      I – V – vi – IV – I – V – IV – I   \n",
       "1  Bm – F# – A – E – G – D – Em – F#  i – V – VII – IV – VI – III – iv – V   \n",
       "\n",
       "                                             cadence  \\\n",
       "0  Authentic (IV–I) at end; Deceptive (V–vi) earlier   \n",
       "1                                Half cadence (iv–V)   \n",
       "\n",
       "                                        theory_notes  \n",
       "0  Diatonic progression; Deceptive cadence in ear...  \n",
       "1  Modal interchange; Natural VII chord; Aeolian ...  "
      ]
     },
     "execution_count": 31,
     "metadata": {},
     "output_type": "execute_result"
    }
   ],
   "source": [
    "print('Shape (rows and columns):', df.shape)\n",
    "df.head(2)"
   ]
  },
  {
   "cell_type": "markdown",
   "id": "c958c1a1-a35f-4ac2-818f-481ee1d14827",
   "metadata": {},
   "source": [
    "### Index with minsearch"
   ]
  },
  {
   "cell_type": "code",
   "execution_count": 62,
   "id": "19f85eee-e75d-47e0-85b1-4ee25f3d3ca7",
   "metadata": {},
   "outputs": [],
   "source": [
    "import minsearch"
   ]
  },
  {
   "cell_type": "code",
   "execution_count": 63,
   "id": "d4c1c9ab-9125-4a32-875d-222709ddbf1c",
   "metadata": {},
   "outputs": [
    {
     "data": {
      "text/plain": [
       "Index(['title', 'artist', 'genre', 'key', 'tempo_bpm', 'time_signature',\n",
       "       'chord_progression', 'roman_numerals', 'cadence', 'theory_notes'],\n",
       "      dtype='object')"
      ]
     },
     "execution_count": 63,
     "metadata": {},
     "output_type": "execute_result"
    }
   ],
   "source": [
    "df.columns"
   ]
  },
  {
   "cell_type": "code",
   "execution_count": 64,
   "id": "1fbee000-eb55-46e3-8e60-7313be066fb2",
   "metadata": {},
   "outputs": [
    {
     "data": {
      "text/plain": [
       "{'title': 'Let It Be',\n",
       " 'artist': 'The Beatles',\n",
       " 'genre': 'Pop',\n",
       " 'key': 'C major',\n",
       " 'tempo_bpm': '76',\n",
       " 'time_signature': '4/4',\n",
       " 'chord_progression': 'C – G – Am – F – C – G – F – C',\n",
       " 'roman_numerals': 'I – V – vi – IV – I – V – IV – I',\n",
       " 'cadence': 'Authentic (IV–I) at end; Deceptive (V–vi) earlier',\n",
       " 'theory_notes': 'Diatonic progression; Deceptive cadence in early phrase; Clear tonic return'}"
      ]
     },
     "execution_count": 64,
     "metadata": {},
     "output_type": "execute_result"
    }
   ],
   "source": [
    "# Covert numeric fields to string to prevent parsing errors in minsearch\n",
    "df['tempo_bpm'] = df['tempo_bpm'].apply(lambda i: str(i))\n",
    "\n",
    "documents = df.to_dict(orient='records')\n",
    "documents[0]"
   ]
  },
  {
   "cell_type": "code",
   "execution_count": 65,
   "id": "a2250d54-5761-4389-bf8e-0f244cbfca07",
   "metadata": {},
   "outputs": [],
   "source": [
    "index = minsearch.Index(\n",
    "    text_fields=['title', 'artist', 'genre', 'key', 'tempo_bpm', 'time_signature',\n",
    "       'chord_progression', 'roman_numerals', 'cadence', 'theory_notes'],\n",
    "    keyword_fields=[]\n",
    ")"
   ]
  },
  {
   "cell_type": "code",
   "execution_count": 66,
   "id": "1f55deca-1745-4f22-a134-628f247da63f",
   "metadata": {},
   "outputs": [
    {
     "data": {
      "text/plain": [
       "<minsearch.minsearch.Index at 0x7640dd6ecd40>"
      ]
     },
     "execution_count": 66,
     "metadata": {},
     "output_type": "execute_result"
    }
   ],
   "source": [
    "index.fit(documents)"
   ]
  },
  {
   "cell_type": "code",
   "execution_count": 103,
   "id": "2be6f096-1eb5-4d52-a41c-9442f2a04de7",
   "metadata": {},
   "outputs": [],
   "source": [
    "query = \"Give me Folk titles\""
   ]
  },
  {
   "cell_type": "code",
   "execution_count": 104,
   "id": "41d04bb7-b808-464d-af1a-9d31213005af",
   "metadata": {},
   "outputs": [
    {
     "data": {
      "text/plain": [
       "[{'title': 'House of the Rising Sun',\n",
       "  'artist': 'The Animals',\n",
       "  'genre': 'Folk',\n",
       "  'key': 'Am',\n",
       "  'tempo_bpm': '76',\n",
       "  'time_signature': '6/8',\n",
       "  'chord_progression': 'Am – C – D – F – Am – E – Am',\n",
       "  'roman_numerals': 'i – III – IV – VI – i – V – i',\n",
       "  'cadence': 'Authentic (V–i)',\n",
       "  'theory_notes': 'Aeolian mode; 6/8 compound meter; Traditional folk harmony'},\n",
       " {'title': \"The Times They Are A-Changin'\",\n",
       "  'artist': 'Bob Dylan',\n",
       "  'genre': 'Folk',\n",
       "  'key': 'G major',\n",
       "  'tempo_bpm': '76',\n",
       "  'time_signature': '3/4',\n",
       "  'chord_progression': 'G – Em – C – G – Am – D – G – Em – D – G',\n",
       "  'roman_numerals': 'I – vi – IV – I – ii – V – I – vi – V – I',\n",
       "  'cadence': 'Authentic (V–I)',\n",
       "  'theory_notes': 'Folk protest song; Simple diatonic harmony; Waltz meter'},\n",
       " {'title': 'Hallelujah',\n",
       "  'artist': 'Leonard Cohen',\n",
       "  'genre': 'Folk',\n",
       "  'key': 'C major',\n",
       "  'tempo_bpm': '72',\n",
       "  'time_signature': '6/8',\n",
       "  'chord_progression': 'C – Am – F – G – Em – Am – F – G – C',\n",
       "  'roman_numerals': 'I – vi – IV – V – iii – vi – IV – V – I',\n",
       "  'cadence': 'Authentic (V–I)',\n",
       "  'theory_notes': 'Spiritual folk; Multiple cover versions; Complex emotional content'},\n",
       " {'title': \"California Dreamin'\",\n",
       "  'artist': 'The Mamas & The Papas',\n",
       "  'genre': 'Folk',\n",
       "  'key': 'Am',\n",
       "  'tempo_bpm': '120',\n",
       "  'time_signature': '4/4',\n",
       "  'chord_progression': 'Am – G – F – G – E – Am – F – G – Am',\n",
       "  'roman_numerals': 'i – VII – VI – VII – V – i – VI – VII – i',\n",
       "  'cadence': 'Authentic (VII–i)',\n",
       "  'theory_notes': 'Modal folk-rock; Natural VII prominent; Relative major relationship'},\n",
       " {'title': 'Mr. Tambourine Man',\n",
       "  'artist': 'Bob Dylan',\n",
       "  'genre': 'Folk',\n",
       "  'key': 'D major',\n",
       "  'tempo_bpm': '110',\n",
       "  'time_signature': '4/4',\n",
       "  'chord_progression': 'D – G – A – D – Bm – G – A – D',\n",
       "  'roman_numerals': 'I – IV – V – I – vi – IV – V – I',\n",
       "  'cadence': 'Authentic (V–I)',\n",
       "  'theory_notes': 'Folk-rock blend; jangle rhythm; consistent authentic cadences'}]"
      ]
     },
     "execution_count": 104,
     "metadata": {},
     "output_type": "execute_result"
    }
   ],
   "source": [
    "index.search(query, num_results=5)"
   ]
  },
  {
   "cell_type": "markdown",
   "id": "b122dfa1-a101-4ac0-b315-be40444f9ef5",
   "metadata": {},
   "source": [
    "### RAG Flow"
   ]
  },
  {
   "cell_type": "code",
   "execution_count": 105,
   "id": "372dca80-45b8-4b9a-81c7-09ab41a1cca1",
   "metadata": {},
   "outputs": [],
   "source": [
    "from openai import OpenAI\n",
    "\n",
    "client = OpenAI()"
   ]
  },
  {
   "cell_type": "code",
   "execution_count": 106,
   "id": "d55803b1-2497-4e7b-aed8-a193b99c140d",
   "metadata": {},
   "outputs": [],
   "source": [
    "def search(query):\n",
    "    boost = {}\n",
    "\n",
    "    results = index.search(\n",
    "        query=query,\n",
    "        filter_dict={},\n",
    "        boost_dict=boost,\n",
    "        num_results=10\n",
    "    )\n",
    "\n",
    "    return results"
   ]
  },
  {
   "cell_type": "code",
   "execution_count": 107,
   "id": "46894198-1ceb-4dbb-be2e-7782e815b97d",
   "metadata": {},
   "outputs": [],
   "source": [
    "prompt_template = \"\"\"\n",
    "You're a music teacher. Answer the QUESTION based on the CONTEXT from our music theory database.\n",
    "Use only the facts from the CONTEXT when answering the QUESTION.\n",
    "\n",
    "QUESTION: {question}\n",
    "\n",
    "CONTEXT:\n",
    "{context}\n",
    "\"\"\".strip()\n",
    "\n",
    "entry_template = \"\"\"\n",
    "title: {title}\n",
    "artist: {artist}\n",
    "genre: {genre}\n",
    "key: {key}\n",
    "tempo_bpm: {tempo_bpm}\n",
    "time_signature: {time_signature}\n",
    "chord_progression: {chord_progression}\n",
    "roman_numerals: {roman_numerals}\n",
    "cadence: {cadence}\n",
    "theory_notes: {theory_notes}\n",
    "\"\"\".strip()"
   ]
  },
  {
   "cell_type": "code",
   "execution_count": 108,
   "id": "8dfec9f5-29f6-4c8d-b681-87ca502a5cf0",
   "metadata": {},
   "outputs": [],
   "source": [
    "def build_prompt(query, search_results):\n",
    "    context = \"\"\n",
    "    \n",
    "    for doc in search_results:\n",
    "        context = context + entry_template.format(**doc) + \"\\n\\n\"\n",
    "\n",
    "    prompt = prompt_template.format(question=query, context=context).strip()\n",
    "    return prompt"
   ]
  },
  {
   "cell_type": "code",
   "execution_count": 109,
   "id": "0149e0a1-5036-4eea-825c-359d5a94b1c3",
   "metadata": {},
   "outputs": [],
   "source": [
    "def llm(prompt, model='gpt-4o-mini'):\n",
    "    response = client.chat.completions.create(\n",
    "        model=model,\n",
    "        messages=[{\"role\": \"user\", \"content\": prompt}]\n",
    "    )\n",
    "    \n",
    "    return response.choices[0].message.content"
   ]
  },
  {
   "cell_type": "code",
   "execution_count": 110,
   "id": "afa21b6f-5712-498d-88c8-96043702a158",
   "metadata": {},
   "outputs": [],
   "source": [
    "def rag(query, model='gpt-4o-mini'):\n",
    "    search_results = search(query)\n",
    "    prompt = build_prompt(query, search_results)\n",
    "    answer = llm(prompt, model=model)\n",
    "    return answer"
   ]
  },
  {
   "cell_type": "code",
   "execution_count": 117,
   "id": "4f6a15d6-6370-4a4b-afd3-2664c1625ea2",
   "metadata": {},
   "outputs": [
    {
     "name": "stdout",
     "output_type": "stream",
     "text": [
      "Yes, \"Mr. Tambourine Man\" is classified as a folk song. It embodies characteristics typical of the folk genre, such as storytelling and a simple yet profound emotional appeal. \n",
      "\n",
      "The song is in the key of D major and employs a chord progression of D – G – A – D – Bm – G – A – D, which corresponds to the Roman numerals I – IV – V – I – vi – IV – V – I. This structure is common in folk music, emphasizing straightforward harmonies that support the lyrical content.\n",
      "\n",
      "The cadence used in \"Mr. Tambourine Man\" is an authentic cadence, specifically the V–I progression, which creates a sense of resolution. A cadence, in music theory, refers to a sequence of chords that concludes a phrase or section of music, often providing a feeling of closure or pause. In this song, the authentic cadence reinforces the thematic elements by effectively concluding musical phrases and enhancing the overall emotional impact.\n"
     ]
    }
   ],
   "source": [
    "question = 'Is Mr Tambourine Man a folk song and if so, explain why, including information about its key and cadence, and explain what cadence means?'\n",
    "answer = rag(question)\n",
    "print(answer)"
   ]
  },
  {
   "cell_type": "code",
   "execution_count": 119,
   "id": "efc22123-93ee-4c66-a6bf-79d20c2e6440",
   "metadata": {},
   "outputs": [
    {
     "name": "stdout",
     "output_type": "stream",
     "text": [
      "Based on the provided context, here is a list of songs by The Beatles mentioned:\n",
      "\n",
      "1. Let It Be\n",
      "2. Something\n"
     ]
    }
   ],
   "source": [
    "question = 'Could you print a list of songs by The Beatles?'\n",
    "answer = rag(question)\n",
    "print(answer)"
   ]
  },
  {
   "cell_type": "code",
   "execution_count": 120,
   "id": "9baec181-5b31-43f1-8877-96076d73667e",
   "metadata": {},
   "outputs": [
    {
     "name": "stdout",
     "output_type": "stream",
     "text": [
      "Here is a list of songs in the key of C Major:\n",
      "\n",
      "1. **Let It Be** - The Beatles\n",
      "2. **My Girl** - The Temptations\n",
      "3. **Brown Sugar** - The Rolling Stones\n",
      "4. **Great Balls of Fire** - Jerry Lee Lewis\n",
      "5. **Blue Moon** - Richard Rodgers\n",
      "6. **Dust in the Wind** - Kansas\n"
     ]
    }
   ],
   "source": [
    "question = 'Could you print a list of songs in the key of C Major?'\n",
    "answer = rag(question)\n",
    "print(answer)"
   ]
  },
  {
   "cell_type": "code",
   "execution_count": null,
   "id": "99ccc429-ae4f-4ad0-a361-5860845a903c",
   "metadata": {},
   "outputs": [],
   "source": []
  }
 ],
 "metadata": {
  "kernelspec": {
   "display_name": "Python 3 (ipykernel)",
   "language": "python",
   "name": "python3"
  },
  "language_info": {
   "codemirror_mode": {
    "name": "ipython",
    "version": 3
   },
   "file_extension": ".py",
   "mimetype": "text/x-python",
   "name": "python",
   "nbconvert_exporter": "python",
   "pygments_lexer": "ipython3",
   "version": "3.12.1"
  }
 },
 "nbformat": 4,
 "nbformat_minor": 5
}

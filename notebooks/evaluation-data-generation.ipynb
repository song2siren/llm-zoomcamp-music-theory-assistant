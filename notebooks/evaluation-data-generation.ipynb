{
 "cells": [
  {
   "cell_type": "markdown",
   "id": "d65449c8-9907-4463-8dc0-7157abffc4c5",
   "metadata": {},
   "source": [
    "## Evaluation Data Generation"
   ]
  },
  {
   "cell_type": "markdown",
   "id": "b49e47d4-d220-47aa-b62c-0e7bb167fee8",
   "metadata": {},
   "source": [
    "This notebook creates a set of realistic, song-specific user questions (with ground truth) for evaluating the Music Theory Assistant RAG system’s ability to retrieve and answer music theory queries. It does the following:\n",
    "\n",
    "1. Loads the music theory dataset from the local CSV file into a pandas DataFrame.\n",
    "2. Defines a prompt template that asks an [LLM (OpenAI - GPT-4o mini)](https://platform.openai.com/docs/models/gpt-4o-mini) to generate 5 specific, song-based questions for each song record.\n",
    "3. Sends each song record to the LLM and collects the generated questions as JSON.\n",
    "4. Aggregates all questions into a list, associating each question with its song’s id.\n",
    "5. Saves the results as a CSV file (ground-truth-retrieval.csv) for use as evaluation data in retrieval tasks.\n"
   ]
  },
  {
   "cell_type": "code",
   "execution_count": 21,
   "id": "ded1e0a9-4bee-414a-9377-2d5a52ee42b8",
   "metadata": {},
   "outputs": [],
   "source": [
    "import pandas as pd"
   ]
  },
  {
   "cell_type": "code",
   "execution_count": 22,
   "id": "48dc1e20-6931-4024-a811-e710aa89231f",
   "metadata": {},
   "outputs": [],
   "source": [
    "from openai import OpenAI\n",
    "\n",
    "client = OpenAI()"
   ]
  },
  {
   "cell_type": "code",
   "execution_count": 39,
   "id": "a3466cf5-45c5-4a23-8be6-4f1830ca54b1",
   "metadata": {},
   "outputs": [],
   "source": [
    "# Read the local dataset\n",
    "df = pd.read_csv('../data/music-theory-dataset-100.csv')\n",
    "documents = df.to_dict(orient='records')"
   ]
  },
  {
   "cell_type": "code",
   "execution_count": 40,
   "id": "724f37a8-090c-4b7a-85cc-69a0f578d74c",
   "metadata": {},
   "outputs": [],
   "source": [
    "# Build the prompt template\n",
    "prompt_template = \"\"\"\n",
    "You emulate a user of our music theory assistant application.\n",
    "Generate 5 questions this user might ask based on a provided song title.\n",
    "Make the questions specific to this title.\n",
    "The record should contain the answer to the questions, and the questions should\n",
    "be complete and not too short. Use as few words as possible from the record. \n",
    "\n",
    "The record:\n",
    "\n",
    "title: {title}\n",
    "artist: {artist}\n",
    "genre: {genre}\n",
    "key: {key}\n",
    "tempo_bpm: {tempo_bpm}\n",
    "time_signature: {time_signature}\n",
    "chord_progression: {chord_progression}\n",
    "roman_numerals: {roman_numerals}\n",
    "cadence: {cadence}\n",
    "theory_notes: {theory_notes}\n",
    "\n",
    "Provide the output in parsable JSON without using code blocks:\n",
    "\n",
    "{{\"questions\": [\"question1\", \"question2\", ..., \"question5\"]}}\n",
    "\"\"\".strip()"
   ]
  },
  {
   "cell_type": "code",
   "execution_count": 25,
   "id": "a729f4b6-2b86-4ba9-84b8-279c3aab8993",
   "metadata": {},
   "outputs": [],
   "source": [
    "prompt = prompt_template.format(**documents[0])"
   ]
  },
  {
   "cell_type": "code",
   "execution_count": 26,
   "id": "1bc10caa-448f-4d42-b19e-8280a64a034b",
   "metadata": {},
   "outputs": [],
   "source": [
    "def llm(prompt):\n",
    "    response = client.chat.completions.create(\n",
    "        model='gpt-4o-mini',\n",
    "        messages=[{\"role\": \"user\", \"content\": prompt}]\n",
    "    )\n",
    "    \n",
    "    return response.choices[0].message.content"
   ]
  },
  {
   "cell_type": "code",
   "execution_count": 27,
   "id": "ff24e93d-75cc-41f3-8a15-5c25fe2d3bf1",
   "metadata": {},
   "outputs": [],
   "source": [
    "questions = llm(prompt)"
   ]
  },
  {
   "cell_type": "code",
   "execution_count": 28,
   "id": "8cb77582-35a1-4c3f-9d79-dd1f5df7b33d",
   "metadata": {},
   "outputs": [],
   "source": [
    "import json"
   ]
  },
  {
   "cell_type": "code",
   "execution_count": 29,
   "id": "8fa7fef5-dcf3-4955-a456-9d83d3a0ad5d",
   "metadata": {},
   "outputs": [
    {
     "data": {
      "text/plain": [
       "{'questions': [\"What is the key of the song 'Let It Be'?\",\n",
       "  \"Can you tell me the chord progression used in 'Let It Be'?\",\n",
       "  \"What is the time signature of 'Let It Be'?\",\n",
       "  \"What type of cadence is found at the end of 'Let It Be'?\",\n",
       "  \"What is the tempo of the song 'Let It Be' in BPM?\"]}"
      ]
     },
     "execution_count": 29,
     "metadata": {},
     "output_type": "execute_result"
    }
   ],
   "source": [
    "json.loads(questions)"
   ]
  },
  {
   "cell_type": "code",
   "execution_count": 30,
   "id": "d4a42ce1-3c81-4a93-8cba-2c23b0cf741e",
   "metadata": {},
   "outputs": [],
   "source": [
    "def generate_questions(doc):\n",
    "    prompt = prompt_template.format(**doc)\n",
    "\n",
    "    response = client.chat.completions.create(\n",
    "        model='gpt-4o-mini',\n",
    "        messages=[{\"role\": \"user\", \"content\": prompt}]\n",
    "    )\n",
    "\n",
    "    json_response = response.choices[0].message.content\n",
    "    return json_response"
   ]
  },
  {
   "cell_type": "code",
   "execution_count": 31,
   "id": "9e859433-582e-419d-ba4a-9c951da88fcb",
   "metadata": {},
   "outputs": [],
   "source": [
    "from tqdm.auto import tqdm"
   ]
  },
  {
   "cell_type": "code",
   "execution_count": 32,
   "id": "854a4b94-89e5-4731-92a3-94a55cbece20",
   "metadata": {},
   "outputs": [],
   "source": [
    "results = {}"
   ]
  },
  {
   "cell_type": "code",
   "execution_count": 33,
   "id": "795e983a-5aac-4e2a-a949-141e54dfa7a4",
   "metadata": {},
   "outputs": [
    {
     "data": {
      "application/vnd.jupyter.widget-view+json": {
       "model_id": "190504fa34064d08aa7a0abdc48777f6",
       "version_major": 2,
       "version_minor": 0
      },
      "text/plain": [
       "  0%|          | 0/100 [00:00<?, ?it/s]"
      ]
     },
     "metadata": {},
     "output_type": "display_data"
    }
   ],
   "source": [
    "for doc in tqdm(documents): \n",
    "    doc_id = doc['id']\n",
    "    if doc_id in results:\n",
    "        continue\n",
    "\n",
    "    questions_raw = generate_questions(doc)\n",
    "    questions = json.loads(questions_raw)\n",
    "    results[doc_id] = questions['questions']"
   ]
  },
  {
   "cell_type": "code",
   "execution_count": 34,
   "id": "a879c45e-281a-4131-a9ac-9d488e22e503",
   "metadata": {},
   "outputs": [],
   "source": [
    "final_results = []\n",
    "\n",
    "for doc_id, questions in results.items():\n",
    "    for q in questions:\n",
    "        final_results.append((doc_id, q))"
   ]
  },
  {
   "cell_type": "code",
   "execution_count": 35,
   "id": "656b9468-d290-4b30-9468-a0b8d4d1830c",
   "metadata": {},
   "outputs": [
    {
     "data": {
      "text/plain": [
       "(0, \"What is the key of the song 'Let It Be' by The Beatles?\")"
      ]
     },
     "execution_count": 35,
     "metadata": {},
     "output_type": "execute_result"
    }
   ],
   "source": [
    "final_results[0]"
   ]
  },
  {
   "cell_type": "code",
   "execution_count": 36,
   "id": "f15e0fab-bcf3-41ac-8cbb-408279d27a87",
   "metadata": {},
   "outputs": [],
   "source": [
    "df_results = pd.DataFrame(final_results, columns=['id', 'question'])"
   ]
  },
  {
   "cell_type": "code",
   "execution_count": 37,
   "id": "cba79c08-c5ca-4189-8a33-67ff254febb1",
   "metadata": {},
   "outputs": [],
   "source": [
    "df_results.to_csv('../data/ground-truth-retrieval.csv', index=False)"
   ]
  },
  {
   "cell_type": "code",
   "execution_count": 38,
   "id": "e6e2116f-487b-457a-b6e3-239d67f634ef",
   "metadata": {},
   "outputs": [
    {
     "name": "stdout",
     "output_type": "stream",
     "text": [
      "id,question\n",
      "0,What is the key of the song 'Let It Be' by The Beatles?\n",
      "0,Can you provide the chord progression for 'Let It Be'?\n",
      "0,What is the tempo in beats per minute for 'Let It Be'?\n",
      "0,Which cadence is used at the end of 'Let It Be'?\n",
      "0,What is the time signature of 'Let It Be'?\n",
      "1,What is the key of the song 'Hotel California'?\n",
      "1,Can you list the chord progression used in 'Hotel California'?\n",
      "1,What is the time signature for 'Hotel California'?\n",
      "1,What kind of cadence does 'Hotel California' have?\n"
     ]
    }
   ],
   "source": [
    "!head ../data/ground-truth-retrieval.csv"
   ]
  },
  {
   "cell_type": "code",
   "execution_count": null,
   "id": "0fa4c4d1-7f29-4f08-a093-2d432821f7b0",
   "metadata": {},
   "outputs": [],
   "source": []
  }
 ],
 "metadata": {
  "kernelspec": {
   "display_name": "Python 3 (ipykernel)",
   "language": "python",
   "name": "python3"
  },
  "language_info": {
   "codemirror_mode": {
    "name": "ipython",
    "version": 3
   },
   "file_extension": ".py",
   "mimetype": "text/x-python",
   "name": "python",
   "nbconvert_exporter": "python",
   "pygments_lexer": "ipython3",
   "version": "3.12.1"
  }
 },
 "nbformat": 4,
 "nbformat_minor": 5
}
